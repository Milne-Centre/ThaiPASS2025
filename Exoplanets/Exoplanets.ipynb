{
 "cells": [
  {
   "cell_type": "markdown",
   "metadata": {},
   "source": [
    "# EXOPLANETS\n",
    "\n",
    "The goal of this project is to understand how we detect exoplanets using the transit method, and how we can calculate their properties.  There are 4 different parts:\n",
    "\n",
    "### EXOPLANETS I: Kepler's laws: Solar System & Exoplanets\n",
    "\n",
    "You will learn about how to use Kepler's 3rd law to connect the distance of a planet from its host star with the period of the planet.\n",
    "\n",
    "### EXOPLANETS II: Habitable zone around a star\n",
    "\n",
    "You will learn about how to calculate the boundaries of the zone around a star where life may exist.\n",
    "\n",
    "### EXOPLANETS III: Exoplanet transit modelling\n",
    "\n",
    "You will use a given transit model to plot transit curves for different planet parameters and see how the properties of the planet affect the transit curve.\n",
    "\n",
    "### EXOPLANETS IV: Finding planets in transit data from the Kepler mission\n",
    "\n",
    "This is the most exciting part: you will use data from NASA's [Kepler space mission](https://www.nasa.gov/mission_pages/kepler/overview/index.html) to discover exoplanets and find their properties. Then you will check if any of the planets you discovered can support life.\n",
    "\n",
    "There are quite a few tasks to complete. ***The ones that are labeled as \"optional\" will not be marked***. If you have time you can do them too, but you do not have to include them in your answers. They are there to help your understanding.\n",
    "\n",
    "\n"
   ]
  },
  {
   "cell_type": "markdown",
   "metadata": {},
   "source": [
    "# EXOPLANETS I (Pre-ThaiPass Exercise): Kepler's laws: Solar System & Exoplanets\n",
    "\n",
    "In this exercise you will learn about the motions of the planets around the Sun or other stars and produce graphs using Kepler's 3rd law. You will learn about using python functions, defining arrays, making simple plots and customising them.\n",
    "\n",
    "**You will need the following python packages: numpy and matplotlib. Don't forget to import them:**\n",
    "\n",
    "**import numpy as np**\n",
    "\n",
    "**import matplotlib.pyplot as plt**\n",
    "\n",
    "\n",
    "## Kepler's laws of planetary motion\n",
    "\n",
    "These describe the motions of the planets in the Solar System. They were formulated by Kepler in the 1600's (see Wikipedia article)\n",
    "\n",
    "Kepler's 3rd law connects the period of a planet with the distance from its star.\n",
    "\n",
    "### $P^2=\\frac{4\\pi^2 a^3}{GM}$\n",
    "\n",
    "where P is the period of the planet (how much time it takes to do one rotation around the star), G is the universal gravitational constant, M is the mass of the host star and a is the semi-major axis of the planet orbit (i.e. the distance from the star for a circular orbit). In our System we set $M=1M_\\odot$ (the mass of the Sun). The symbol we use for the Sun is $\\odot$.\n",
    "\n",
    "If we apply the above equation for the Earth (the symbol we use for Earth is $\\oplus$) we obtain:\n",
    "\n",
    "### $P_\\oplus^2=\\frac{4\\pi^2 a_\\oplus^3}{GM_\\odot}$\n",
    "\n",
    "In the general case of a planet around a star with mass $M_\\star$, we have \n",
    "\n",
    "### $P^2=\\frac{4\\pi^2 a^3}{GM\\star}$\n",
    "\n",
    "Dividing by parts the previous two equations we get:\n",
    "\n",
    "### $\\left(\\frac{P}{P_\\oplus}\\right)^2=\\left(\\frac{a}{a_\\oplus}\\right)^3 \\left(\\frac{M_\\star}{M_\\odot}\\right)^{-1}$\n",
    "\n",
    "However $a_\\oplus$=1 AU (where AU is the astronomical unit, i.e. the distance between Earth and Sun) and $P=1 $yr (year). Therefore, the above  equation can be written in the simple form by **using years as the time unit, AU the distance unit and $M_\\odot$ the mass unit**:\n",
    "\n",
    "### $P^2=a^3/M_\\star$. \n",
    "\n",
    "This equation can be used to determine the distance of a planet from its host star if we can determine its period. Use this equation for the tasks below, being careful to use the right units.\n",
    "\n",
    "Note that the mass of the planet does appear in the above equation which means that if a more massive planet (e.g. Jupiter) was on Earth's orbit it would have the same period (i.e. rotate around the Sun with the same speed as Earth)."
   ]
  },
  {
   "cell_type": "markdown",
   "metadata": {},
   "source": [
    "## Task I-1\n",
    "\n",
    "Define a function (**def function_mame(input parameters)**) that returns the distance of a planet from its host star  when you input the planet's period $P$ and the mass $M$ of the star (input units should be years and AU; output units AU). Don't forget to import the relevant packages (numpy). Use this function to find and output the distance between the Earth and the Sun, and the distance between the Jupiter and the Sun (note that the period of Jupiter is 12 yr). [Learn about python functions]"
   ]
  },
  {
   "cell_type": "code",
   "execution_count": 13,
   "metadata": {},
   "outputs": [],
   "source": [
    "#write your code here\n",
    "\n",
    "\n"
   ]
  },
  {
   "cell_type": "markdown",
   "metadata": {},
   "source": [
    "## Task I-2\n",
    "\n",
    "Use this function to make a numpy array that has the semi major axis of planets with orbital periods between 0.1 and 5 years (every 0.1 yr) (hint: use the numpy **arange** function) for stars between 0.1 and 2 times the mass of the Sun (for 5 values between 0.1 and 2) (hint: use the numpy **linspace** function).  "
   ]
  },
  {
   "cell_type": "code",
   "execution_count": 14,
   "metadata": {},
   "outputs": [],
   "source": [
    "#write your code here\n"
   ]
  },
  {
   "cell_type": "markdown",
   "metadata": {},
   "source": [
    "## Task I-3\n",
    "Plot the semi-major axis versus the period of the planet for each of the five stars (five lines). Label your axes (use **plt.xlabel**, **plt.ylabel**), give a title to the plot (use **plt.title**), use different colour lines for each stellar mass, and put a legend on the graph (**plt.legend**). Don't forget to import matplotlib.pyplot. [Learn about python graphs]"
   ]
  },
  {
   "cell_type": "code",
   "execution_count": 15,
   "metadata": {},
   "outputs": [],
   "source": [
    "#write your code here\n"
   ]
  },
  {
   "cell_type": "markdown",
   "metadata": {},
   "source": [
    "# EXOPLANETS II: Habitable zone around a star\n",
    "\n",
    "The habitable zone of a star is defined as the region around the star in which a planet has the right temperature for maintain liquid water. We currently think that water is necessary for the development of life.\n",
    "\n",
    "Water is in liquid form at temperatures between 0 and 100 degrees Celcius or equivalently between 273K and 473K (degrees Kelvin).\n",
    "\n",
    "The equilibrium temperature of tha planet is determined by considering the energy balance between the stellar radiation absorbed by the planet and the radiation emitted by the planet. \n",
    "\n",
    "If  $L_\\star$ is the luminosity of a star (energy emitted per unit time), then the flux (energy per unit time and unit area) that arrives at the planet is\n",
    "### $F=\\frac{L_\\star}{4\\pi a^2}$.\n",
    "\n",
    "Only one side of the planet is facing the star, so the projected area that abdsorbes radiation is: $\\pi R_p^2$, where $R_p$ is the radius of the planet.\n",
    "\n",
    "The albedo $A$ of a planet determines what fraction of the incident radiation is reflected: $A=1$ means all the incident radiation is reflected, whereas $A=0.7$ means that 30% of the incident radiation is absorbed.The absorded energy per unit time from the planet is \n",
    "\n",
    "### $L_{\\rm abs}= \\pi R_p^2 (1-A)\\frac{L_\\star}{4\\pi a^2}$\n",
    "\n",
    "The energy emitted per unit time from the planet is given by the  Stefan-Boltzmann law:\n",
    "\n",
    "### $L_{\\rm em}=4\\pi R_p^2 \\sigma T_p^4$, \n",
    "\n",
    "where $\\sigma$ is the  Stefan-Boltzmann constant.\n",
    "\n",
    "At *thermal equilbrium* absorbed and emitted must be the same, so the equilibrium temperature of a planet is\n",
    "\n",
    "### $T_p=\\left[\\frac{(1-A) L_\\star}{16\\pi\\sigma a^2}\\right]^{1/4}$\n",
    "\n",
    "Solving the above for $a$ we can find the distance from the star where the planet has a specific temperature $T_p$:\n",
    "\n",
    "### $a=\\left[\\frac{(1-A) L_\\star}{16\\pi\\sigma}\\right]^{1/2} T_p^{-2}$.\n",
    "\n",
    "From this equation we can then calculate the inner boundary $a_{\\rm inner}$ and outer boundary $a_{\\rm outer}$ of the habitable zone, i.e. the distance from the star where the planet temperature is between 273 and 373K. Note that $L_\\star$ needs to be put in SI units in this equation and it will return the distance in m (again SI units)."
   ]
  },
  {
   "cell_type": "markdown",
   "metadata": {},
   "source": [
    "## Task II\n",
    "\n",
    "Make a graph with the mass of the star $M_\\star$ (in solar masses) versus  $a_{\\rm inner}$ and $a_{\\rm outer}$ (in AU) that shows the boundaries (inner and outer) of the habitable zone around stars with masses from 0.1 to 2 times the mass of the Sun. \n",
    "\n",
    "Hint: Define a function that returns the distance of  planet from a star that a planet has a specific tempature (for a given stellar mass and albedo), i.e. boundary(mstar, albedo, temp). Then $a_{\\rm inner}$ is the distance where the temperature is set to 273K, whereas $a_{\\rm outer}$ is the distance where the planet temperature is set to 373K.  Assume that the albedo of the planet is $A=0.36$ (this is Earth's albedo).\n",
    "\n",
    "You will also need to use the fact that the luminosity $L$ of the star is connected to its mass with the so called *mass-luminosity relation*:\n",
    "\n",
    "### $L=M^3$\n",
    "\n",
    "where the luminosity of the star needs to be in Solar luminosities and the mass of the star in Solar masses.\n",
    "\n",
    "###Constants\n",
    "\n",
    "$L_\\odot=3.84\\times 10^{26}\\ {\\rm W}$ (SI units)\n",
    "\n",
    "$\\sigma=5.67 \\times 10^{-8}\\ {\\rm W m^{-2} ~K^{-4}}$ (SI units)\n",
    "\n",
    "$1AU=1.496\\times 10^{11} {\\rm m}$ (SI units)\n",
    "\n",
    "Don't forget to label your axes, put title, and legends for the different lines plotted.\n",
    "\n",
    "After you make the graph plot the Earth on it. What do you observe? How can you explain this?"
   ]
  },
  {
   "cell_type": "markdown",
   "metadata": {},
   "source": [
    "# EXOPLANETS III: Exoplanet transit modelling\n",
    "\n",
    "*Transits* happen when an exoplanetary system has the right orienation so that the exoplanet passes in front of its host star. This results to a dimming in the brightness of the star. \n",
    "\n",
    "![transit](transit.gif)"
   ]
  },
  {
   "cell_type": "markdown",
   "metadata": {},
   "source": [
    "## Exoplanet properties from transits\n",
    "\n",
    "We can find some of the exoplanet properties by looking at the transit curves\n",
    "\n",
    "### Exoplanet period\n",
    "\n",
    "The time between two successive transits gives us the period of the exoplanet around its star\n",
    "\n",
    "![period](hatp7period.png)\n",
    "\n",
    "### Exoplanet radius\n",
    "\n",
    "The depth of the transit gives us the radius of the exoplanet\n",
    "\n",
    "## $R_p=R_\\star *\\sqrt{depth}$\n",
    "\n",
    "In the example below the depth is 0.007 (from 1 to 0.993), i.e. 0.7%. Therefore the radius of the planet is \n",
    "$R_p=R_\\star *\\sqrt{0.007}=0.08 R_\\star$\n",
    "\n",
    "![depth](hatp7depth.png)"
   ]
  },
  {
   "cell_type": "markdown",
   "metadata": {},
   "source": [
    "\n",
    "Here we will use a transit model to see the effect of different parameters on the transit curve. First we will import some packages:"
   ]
  },
  {
   "cell_type": "code",
   "execution_count": 16,
   "metadata": {},
   "outputs": [
    {
     "ename": "ModuleNotFoundError",
     "evalue": "No module named 'PyAstronomy'",
     "output_type": "error",
     "traceback": [
      "\u001b[0;31m---------------------------------------------------------------------------\u001b[0m",
      "\u001b[0;31mModuleNotFoundError\u001b[0m                       Traceback (most recent call last)",
      "Cell \u001b[0;32mIn[16], line 6\u001b[0m\n\u001b[1;32m      3\u001b[0m \u001b[38;5;28;01mimport\u001b[39;00m\u001b[38;5;250m \u001b[39m\u001b[38;5;21;01mmatplotlib\u001b[39;00m\u001b[38;5;21;01m.\u001b[39;00m\u001b[38;5;21;01mpyplot\u001b[39;00m\u001b[38;5;250m \u001b[39m\u001b[38;5;28;01mas\u001b[39;00m\u001b[38;5;250m \u001b[39m\u001b[38;5;21;01mplt\u001b[39;00m\n\u001b[1;32m      5\u001b[0m \u001b[38;5;66;03m# Import the module that has the transit model (forTrans)\u001b[39;00m\n\u001b[0;32m----> 6\u001b[0m \u001b[38;5;28;01mfrom\u001b[39;00m\u001b[38;5;250m \u001b[39m\u001b[38;5;21;01mPyAstronomy\u001b[39;00m\u001b[38;5;21;01m.\u001b[39;00m\u001b[38;5;21;01mmodelSuite\u001b[39;00m\u001b[38;5;250m \u001b[39m\u001b[38;5;28;01mimport\u001b[39;00m forTrans \u001b[38;5;28;01mas\u001b[39;00m ft\n",
      "\u001b[0;31mModuleNotFoundError\u001b[0m: No module named 'PyAstronomy'"
     ]
    }
   ],
   "source": [
    "# Import some python basic  modules\n",
    "import numpy as np\n",
    "import matplotlib.pyplot as plt\n",
    "\n",
    "# Import the module that has the transit model (forTrans)\n",
    "from PyAstronomy.modelSuite import forTrans as ft"
   ]
  },
  {
   "cell_type": "markdown",
   "metadata": {},
   "source": [
    "We will use the fuction MandelAgolLC to plot different transit curves. The code below sets some parameters for the planet and then plots the relative flux of the star (energy per unit time and unit area). When the relative flux is 1 then the planet does not block the light from the star. When the relative flux is say 0.95, it means that the planet blocks 5% of the stellar light. Study the code to understand the meaning of the input parameters (you can modify some parameters are re-run the kernel to see what happens)."
   ]
  },
  {
   "cell_type": "code",
   "execution_count": null,
   "metadata": {},
   "outputs": [],
   "source": [
    "# Create MandelAgolLC object (planet) with circular orbit and quadratic limb darkening\n",
    "planet =  ft.MandelAgolLC(orbit=\"circular\", ld=\"quad\")\n",
    "\n",
    "# Set parameters of planetary system\n",
    "# \"planet\" contains the properties of the plane that determine the transit curve\n",
    "\n",
    "#Parameter 1: Planet orbital period (days)\n",
    "planet[\"per\"] = 6\n",
    "\n",
    "#Parameter 2:Orientation of the planet orbit with respect to the observed\n",
    "# (i=90 degrees, means the planet transits through the middle of the stellar disc)\n",
    "planet[\"i\"] = 90\n",
    "\n",
    "#Parameter 3:Semi-major axis of planetary orbit [stellar radii]\n",
    "planet[\"a\"] = 2\n",
    "\n",
    "#Parameter 4: Time offset of transit center (effectively where is the lowest drop of the stellar flux)\n",
    "planet[\"T0\"] = 3.\n",
    "\n",
    "#Parameter 5: Radius ratio between planet and star.\n",
    "planet[\"p\"] = 0.1\n",
    "\n",
    "#Other parameters (do not modify these -no need to worry about these now)\n",
    "planet[\"linLimb\"] = 0.5\n",
    "planet[\"quadLimb\"] = 0.2\n",
    "planet[\"b\"] = 0.\n",
    "\n",
    "# Choose some time axis\n",
    "# this defines the time sampling (how often do you observe the star)\n",
    "# Note: Time unit is days\n",
    "time = np.linspace(0, 20, 1000)\n",
    "\n",
    "# Calculate the time evolution of the stellar brightness using the transit model\n",
    "# The function \"evaluate\" acts on \"planet\" to give the stellar_flux vs time\n",
    "stellar_flux = planet.evaluate(time)\n",
    "\n",
    "\n",
    "plt.title (\"Transit curve\", fontsize = 15)\n",
    "plt.xlabel(\"Time (days)\", fontsize = 15)\n",
    "plt.ylabel(\"Stellar relative flux\", fontsize = 15)\n",
    "\n",
    "# put grid on the graph\n",
    "plt.grid(color='grey', linestyle=':', linewidth=0.2)\n",
    "plt.grid(True)\n",
    "\n",
    "# Let's see what happened ...\n",
    "plt.plot(time, stellar_flux, color='blue', linewidth=1)\n",
    "\n",
    "plt.show()"
   ]
  },
  {
   "cell_type": "markdown",
   "metadata": {},
   "source": [
    "## Task III-1: The effect of the size of the planet\n",
    "\n",
    "Use the above model to plot the transit curves of 2 planets, Saturn and Jupiter, orbiting around the Sun. The rest of the properties remain as set above (assume that both have an orbital period of 6 days). Don't forget to label the different curves and make sure you use appropriate units.\n",
    "\n",
    "You will need the following:\n",
    "\n",
    "Saturn radius $R_\\oplus= 58232$ km\n",
    "\n",
    "Jupiter radius $R_J=69,911$ km\n",
    "\n",
    "Solar radius  $R_\\odot=696,340$ km"
   ]
  },
  {
   "cell_type": "markdown",
   "metadata": {},
   "source": [
    "## Task III-2: The effect of the planet semi-major axis (optional)\n",
    "\n",
    "Create a  Jupiter planet that orbits at a distance 5 times the stellar radius (i.e. planet[\"a\"] = 5). Plot them  on the same graph and compare with the Jupiter from the previous task."
   ]
  },
  {
   "cell_type": "markdown",
   "metadata": {},
   "source": [
    "## Task III-3: The effect of the orientation of the planet orbit  (optional)\n",
    "\n",
    "Create  Jupiter planet that orbits with an oriantaiion of 70 degrees with respect to the observer (i.e. the planet does not pass exactly at the centre of the stellar disc). Plot both transits on the same graph."
   ]
  },
  {
   "cell_type": "markdown",
   "metadata": {},
   "source": [
    "## Task III-4: Multi-planetary systems (optional)\n",
    "\n",
    "Plot the stellar relative flux of  a star like the Sun with a planetary system consisting of two planets with the following parameters\n",
    "\n",
    "### System I\n",
    "\n",
    "Planet 1:per1=6 days, a1=2, p1= 0.2, T0=3\n",
    "\n",
    "Planet 2:per1=3 days, a1=3, p1= 0.1, T0=3.5\n",
    "\n",
    "### System II\n",
    "\n",
    "Planet 1:per1=6 days, a1=2, p1= 0.2, T0=3\n",
    "\n",
    "Planet 2:per1=1.5 days, a1=3, p1= 0.3, T0=3.5\n",
    "\n",
    "\n",
    "Hint: For each system you need to define two \"planets\" and then add them together  to find the final effect on the star."
   ]
  },
  {
   "cell_type": "markdown",
   "metadata": {},
   "source": [
    "# EXOPLANETS IV: Finding planets in transit data from the Kepler mission\n",
    "\n",
    "We will use data from NASA's [Kepler space mission](https://www.nasa.gov/mission_pages/kepler/overview/index.html) to discover exoplanets and determine some of their properties. Kepler was a mission that observed hundreds of thousands of stars looking for transits.\n",
    "\n",
    "The data are in the Exoplanets directory on github. They are labeled as EPIC...txt and they correspond to observations of different single stars (these are called *light curves*). These are ascii files and you can open up with an editor. If you open them up you can see that the first line contains the header. There are two columns of data. The first colum shows the time of the observation (in days from the one given on the header; this is the Barycentric Julian Date (BJD)) and the 2nd column the relative stellar flux. \n",
    "\n",
    "\n",
    "Firstly, you need to read these data and put them into two arrays (time and flux). Be careful of the commas in the file! Start with file EPIC206103150.txt which corresponds to star EPIC 206103150. The code to use is given below."
   ]
  },
  {
   "cell_type": "code",
   "execution_count": null,
   "metadata": {},
   "outputs": [],
   "source": [
    "import pandas as pd\n",
    "import numpy as np\n",
    "import matplotlib.pyplot as plt\n",
    "\n",
    "data = pd.read_csv('EPIC206103150.txt', delimiter=\",\",usecols=range(2), names=['time','flux'], skiprows=[0])\n",
    "\n",
    "#convert columns to np.arrays\n",
    "time=np.array(data['time'])\n",
    "flux=np.array(data['flux'])\n",
    "\n",
    "#check how many values you have in each array\n",
    "print (np.size(time))\n"
   ]
  },
  {
   "cell_type": "markdown",
   "metadata": {},
   "source": [
    "## Task IV-1\n",
    "\n",
    "After you have imported the data plot the stellar relative flux versus time for the whole duration of the observation. Before doing this convert the time from days to hours (transits typically last a few hours). Put labels on your graph."
   ]
  },
  {
   "cell_type": "markdown",
   "metadata": {},
   "source": [
    "## Task IV-2\n",
    "\n",
    "Identify how many planets there are in the system. Remember the each planet has a characteristic transit curve (i.e. specific duration, depth). Note that the stellar brightnetss may vary.\n",
    "\n",
    "You many need to change the axis limits in to see smaller planets.\n",
    "\n",
    "Produce a graph for each planet to clearly show two transits per each planet that exists in the system (by changing the limits of x, y axes)"
   ]
  },
  {
   "cell_type": "markdown",
   "metadata": {},
   "source": [
    "## Task IV-3\n",
    "\n",
    "Choose 2 transits for one planet. Calculate the the period of the planet and the depth of the transit (note that the relative flux of the star changes with time). You need to focus on two consequtive transits and measure the depth (in relation to the stellar flux before/after the transit) and the time when this happens. To help you with this task, you can take the following suggested steps (you can do it your own way too! be creative!).\n",
    "\n",
    "***Step 1:*** Define a function that plots a transit between two times and fixes the y axis limits (that you can use muplitple times for different transits).\n",
    "\n",
    "***Step 2:*** Define a function that returns the indices of the array for two given times time1 and time2 (i.e. you input time1 and time2 and you get back the corresponding indices of the array with these time values)\n",
    "\n",
    "***Step 3:***  Define a function that returns the average relative stellar flux between two times time1, time2 set by the user (you can use that to calculate the average relative flux before and after the transit)\n",
    "\n",
    "***Step 4:*** Define a function that calculates the time of the transit (where the minimum relative stellar flux occurs) and its *uncorrected depth*, with the user defining the time range to examine (time1, time2 around the transit)\n",
    "\n",
    "***Step 5:*** Using all the above, plot two consequtive transits, and find the period of the planet (time difference between two transits) and the corrected transit depth. \n",
    "\n",
    "(OPTIONAL) There are two planets in EPIC 206103150, so you will have to do this twice, one for each planet (obviously you can use the the same functions)."
   ]
  },
  {
   "cell_type": "markdown",
   "metadata": {},
   "source": [
    "## Task IV-4\n",
    "\n",
    "1. Define a function that uses the transit depth and stellar radius and calculate the radius of the planet (use the Equation provided in Exoplanets-III), in units of the radius of Jupiter (note that $1 R_{\\rm J}=0.1R_\\odot$)\n",
    "\n",
    "\n",
    "2. Define a function that uses the transit period and  the stellar radius to calculate the orbital radius of the planet (use the 3rd Kepler law, see Exoplanets I) (in AU)\n",
    "\n",
    "3. Calculate the radius and the orbital period of the planet relating to the transit you just analysed (see beginning of Exoplanets III)\n",
    "\n",
    "You will need some information about the properties of the stars that are given in the following table\n",
    "\n",
    "| Stellar name  | Mass (in $M_\\odot$) | Radius (in $R_\\odot$) |\n",
    "| :- | :-: | :-:|\n",
    "| EPIC 206103150 (K2-23) | 1.03 | 1.15 |\n",
    "| EPIC 212803289 (K2-99)| 1.60 | 3.10 |\n",
    "| EPIC 249624646 (K2-290) | 1.19 | 1.51 |"
   ]
  },
  {
   "cell_type": "markdown",
   "metadata": {},
   "source": [
    "## Task IV-5 (optional)\n",
    "\n",
    "Repeat this for 2 more systems from the given list (EPIC 212803289,EPIC 249624646). "
   ]
  },
  {
   "cell_type": "markdown",
   "metadata": {},
   "source": [
    "## Task IV-6\n",
    "\n",
    "\n",
    "Compare the values you have found with the ones in the literature. You can use any of the below:\n",
    "\n",
    "\n",
    "[Exoplanet.eu](http://exoplanet.eu)\n",
    "\n",
    "[Open Exoplanet Catalogue](http://www.openexoplanetcatalogue.com)\n",
    "\n",
    "[NASA Exoplanet Archive](https://exoplanetarchive.ipac.caltech.edu)\n",
    "\n",
    "Watch out as the parent stars may have more than one names!\n"
   ]
  },
  {
   "cell_type": "markdown",
   "metadata": {},
   "source": [
    "## Task IV-7\n",
    " \n",
    "Plot the planets on the distance-Mstar graph (see Exoplanets II) to check whether they are in the habitable zone (assume Earth-like albdedo $A=0.36$).  What if you increase the planet's albedo to 0.85 (i.e. you have a more reflective planet?)"
   ]
  }
 ],
 "metadata": {
  "kernelspec": {
   "display_name": "Python 3",
   "language": "python",
   "name": "python3"
  },
  "language_info": {
   "codemirror_mode": {
    "name": "ipython",
    "version": 3
   },
   "file_extension": ".py",
   "mimetype": "text/x-python",
   "name": "python",
   "nbconvert_exporter": "python",
   "pygments_lexer": "ipython3",
   "version": "3.13.2"
  },
  "metadata": {
   "interpreter": {
    "hash": "d7f94b8b1e41b02170d45ac71ce2d6b011e7cd56207b4c480f5292088bcfab93"
   }
  },
  "orig_nbformat": 2
 },
 "nbformat": 4,
 "nbformat_minor": 2
}

{
 "cells": [
  {
   "cell_type": "markdown",
   "id": "18867e5a",
   "metadata": {},
   "source": [
    "# Rotation curves notebook\n",
    "### Topic: Galaxies Instructor: Dr Claire Cashmore (c.cashmore@hull.ac.uk)"
   ]
  },
  {
   "cell_type": "markdown",
   "id": "7a7c4a2a",
   "metadata": {},
   "source": [
    "Stars move in orbits around the centre of mass of a galaxy due to the force of gravity. The magnitude (size) of the orbital velocity depends on the enclosed mass (the mass inside the orbit) and the distance of the star from the centre of the galaxy (the radius). In this exercise we will explore the orbital velocity of stars in a galaxy and construct a rotation curve. There are two data files that you will need for these tasks, you can find them on the ThaiPASS’25 GitHub page."
   ]
  },
  {
   "cell_type": "markdown",
   "id": "6e4328e4",
   "metadata": {},
   "source": [
    "This task will allow you to compare real observational data to theoretical models of what galaxies are made of. "
   ]
  },
  {
   "cell_type": "markdown",
   "id": "41cf702d",
   "metadata": {},
   "source": [
    "## Task 1\n",
    "\n",
    "The file rc100224.dat contains the orbital velocities of stars in a galaxy and their radial distance from the centre of the galaxy. The first column of the file contains the radius (kpc: kiloparsec) and the second column contains observed orbital velocity (km/s: in kilometres per second). \n",
    "\n",
    "The purpose of this taks is to read in the data from the file and plot the radial distance on the x-axis and the orbital velocity on the y-axis.This is the *rotation curve* of the galaxy.\n",
    "\n",
    "You should use the data file *rc100224.dat*\n",
    "\n",
    "The first column of the file contains the radius (kpc: kiloparsec) and the second column contains observed orbital velocity ($km/s$)."
   ]
  },
  {
   "cell_type": "markdown",
   "id": "de799797",
   "metadata": {},
   "source": [
    "First, load in any libraries you will need (numpy, math and pyplot)"
   ]
  },
  {
   "cell_type": "code",
   "execution_count": null,
   "id": "5f2aeecd",
   "metadata": {},
   "outputs": [],
   "source": []
  },
  {
   "cell_type": "markdown",
   "id": "3b3b2151",
   "metadata": {},
   "source": [
    "Read in the file rc10022.dat"
   ]
  },
  {
   "cell_type": "code",
   "execution_count": null,
   "id": "5df094c0",
   "metadata": {},
   "outputs": [],
   "source": []
  },
  {
   "cell_type": "markdown",
   "id": "057317f3",
   "metadata": {},
   "source": [
    "Save this data in an array"
   ]
  },
  {
   "cell_type": "code",
   "execution_count": null,
   "id": "0af61d10",
   "metadata": {},
   "outputs": [],
   "source": []
  },
  {
   "cell_type": "markdown",
   "id": "34461ae8",
   "metadata": {},
   "source": [
    "Plot this data, the radius should be on the x-axis and the orbital velocity on the y-axis. Use suitable scales for the axes and remember to add a label for each axis, including units"
   ]
  },
  {
   "cell_type": "code",
   "execution_count": null,
   "id": "76a8d979",
   "metadata": {},
   "outputs": [],
   "source": []
  },
  {
   "cell_type": "markdown",
   "id": "68389dc5",
   "metadata": {},
   "source": [
    "## Task 2"
   ]
  },
  {
   "cell_type": "markdown",
   "id": "8787738a",
   "metadata": {},
   "source": [
    "For this task you will use a real mass distribution data from a model of the Andromeda galaxy (M31) to calculate the orbital velocities. The mass distribution is of *only baryonic matter* (stars and gas). You will use the mass distribution to calculate and plot the rotation curve of the galaxy.\n",
    "\n",
    "From the data file, remember that you need to use the *cumulative/enclosed mass*. Hint: this means that you need to add up the mass in the mass column for each radius to calculate a total mass enclosed in that radius, a loop is helpful for this.\n",
    "\n",
    "You can then use *Kepler's Laws of Planetary Motion* (see equation below) to calculate the orbital velocities of stars as a function of radial distance and plot this as a line graph.  \n",
    "\n",
    "\n",
    "You should use the data file *M31_mass2.dat*\n",
    "\n",
    "The first column of the file contains the radius (pc) and the second column contains the mass at that radius. "
   ]
  },
  {
   "cell_type": "markdown",
   "id": "45c7ecae",
   "metadata": {},
   "source": [
    "First, it us useful to define a function in which we can calculate the orbital velocity when the radius and mass are used as input using the equation:\n",
    "\n",
    "\n",
    "$v = \\sqrt{\\frac{GM(r)}{r}}$\n",
    "\n",
    "Here, G is a constant and you can use the value $G = 4.30091\\times10^{-6}$\n",
    "\n",
    "Hint: Remember that the enclosed mass means adding the mass up in each iteration of the loop"
   ]
  },
  {
   "cell_type": "code",
   "execution_count": null,
   "id": "6cd7aac9",
   "metadata": {},
   "outputs": [],
   "source": []
  },
  {
   "cell_type": "markdown",
   "id": "9499f1c3",
   "metadata": {},
   "source": [
    "Read in the data from *M31_mass2.dat* and save it into an array"
   ]
  },
  {
   "cell_type": "code",
   "execution_count": null,
   "id": "e26f612b",
   "metadata": {},
   "outputs": [],
   "source": []
  },
  {
   "cell_type": "markdown",
   "id": "3fe46daf",
   "metadata": {},
   "source": [
    "To use this data in the equation you have defined above (and also to compare to the first set of data), we require the radius to be in units of kpc. The units of radius in this file are in pc. There are 1000pc in 1kpc, so divide the mass values by 1000 to change to units of kpc."
   ]
  },
  {
   "cell_type": "code",
   "execution_count": null,
   "id": "a65168ef",
   "metadata": {},
   "outputs": [],
   "source": []
  },
  {
   "cell_type": "markdown",
   "id": "7d363d5e",
   "metadata": {},
   "source": [
    "Next, use the function defined above to calcualte the orbital velocity from the mass and radius"
   ]
  },
  {
   "cell_type": "code",
   "execution_count": null,
   "id": "a6ec1bcf",
   "metadata": {},
   "outputs": [],
   "source": []
  },
  {
   "cell_type": "markdown",
   "id": "77ad4b32",
   "metadata": {},
   "source": [
    "Plot this new data on the plot from task 1. Use the radius on the x-axis and the orbital velocity on the y-axis. Add a legend to label each line.  "
   ]
  },
  {
   "cell_type": "code",
   "execution_count": null,
   "id": "c77e4dc3",
   "metadata": {},
   "outputs": [],
   "source": []
  },
  {
   "cell_type": "markdown",
   "id": "078d96f0",
   "metadata": {},
   "source": [
    "You should then compare your graph to the one you made in the first task and comment on any differences you find.\n",
    "We will discuss the reasons for this at ThaiPASS’25!"
   ]
  },
  {
   "cell_type": "code",
   "execution_count": null,
   "id": "04372d39",
   "metadata": {},
   "outputs": [],
   "source": []
  }
 ],
 "metadata": {
  "kernelspec": {
   "display_name": "Python 3 (ipykernel)",
   "language": "python",
   "name": "python3"
  },
  "language_info": {
   "codemirror_mode": {
    "name": "ipython",
    "version": 3
   },
   "file_extension": ".py",
   "mimetype": "text/x-python",
   "name": "python",
   "nbconvert_exporter": "python",
   "pygments_lexer": "ipython3",
   "version": "3.9.5"
  }
 },
 "nbformat": 4,
 "nbformat_minor": 5
}

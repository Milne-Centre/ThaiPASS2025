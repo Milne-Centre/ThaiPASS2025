{
 "cells": [
  {
   "cell_type": "markdown",
   "id": "d919a84e-f439-48c0-ba71-047b52448bf1",
   "metadata": {},
   "source": [
    "# The Marvels of our Sun - Pre-ThaiPASS Exercise"
   ]
  },
  {
   "cell_type": "markdown",
   "id": "3f12df3b-b595-4aee-9bbd-1d7726a99434",
   "metadata": {},
   "source": [
    "In the ThaiPASS 2025 summer school, we will spend some time learning about the Sun and how scientists study it. We’ll use a Python package called SunPy to download and look at real data from space telescopes like NASA’s Solar Dynamics Observatory (SDO) and the GOES satellites. Later, we’ll even compare the Sun with other stars using data from the TESS mission. This first exercise is just a practice run: making sure you have the right software installed and giving you some hands-on experience with downloading and exploring solar data in Python."
   ]
  },
  {
   "cell_type": "markdown",
   "id": "6fe0bac2-ee7d-4a22-abf9-6cb798bfe74b",
   "metadata": {},
   "source": [
    "Before we can start exploring the Sun, we need to ensure you have the correct Python packages installed. Make sure you are using Python version 3.10 or later. We will also perform a full installation of SunPy with all sub-packages. Instructions below are provided for Windows and Mac users, using both pip and conda."
   ]
  },
  {
   "cell_type": "markdown",
   "id": "f04b4eff-550d-42c3-afc3-6f52bb8175d4",
   "metadata": {},
   "source": [
    "### Installing SunPy and Other Packages with pip\n",
    "1. Open a Terminal or Command Prompt\n",
    "- On Windows: search for Command Prompt.\n",
    "- On Mac/Linux: open the Terminal.\n",
    "\n",
    "2. Install the required packages with `pip`: (bash command)\n",
    "\n",
    "`pip install \"sunpy[all]\" astropy matplotlib numpy pandas`\n",
    "\n",
    "This will install:\n",
    "- **SunPy →** the main package for solar data\n",
    "- **Astropy →** useful tools for astronomy and units\n",
    "- **Matplotlib →** for plotting graphs and images\n",
    "- **NumPy / Pandas →** for handling data\n",
    "\n",
    "3. Install Jupyter Notebook\n",
    "During the summer school, all lessons will be using Jupyter notebook. If you don’t already have Jupyter, install it with: (bash command)\n",
    "\n",
    "`pip install notebook`\n",
    "\n",
    "Then start it with: (bash command)\n",
    "\n",
    "`jupyter notebook`\n",
    "\n",
    "This will open a web page where you can write and run your Python code step by step.\n",
    "\n",
    "5. Test your setup\n",
    "Open Python or a notebook and try: (python code)\n",
    "```\n",
    "import sunpy\n",
    "import astropy\n",
    "import matplotlib\n",
    "print(\"Packages installed successfully!\")\n",
    "```\n",
    "\n",
    "### Installing SunPy and Other Packages with Conda\n",
    "1. Open a Terminal or Command Prompt\n",
    "- On Windows: search for Command Prompt.\n",
    "- On Mac/Linux: open the Terminal.\n",
    "\n",
    "2. Create a new environment (recommended)\n",
    "This keeps your summer school work separate from other Python projects. To do this run: (bash command)\n",
    "\n",
    "`conda create -n sunpy-env python=3.12` (version can be 3.10 or later)\n",
    "\n",
    "`conda activate sunpy-env`\n",
    "\n",
    "3. Install the required packages\n",
    "Type this command: (bash command)\n",
    "\n",
    "`conda install -c conda-forge sunpy astropy matplotlib numpy pandas`\n",
    "\n",
    "4. Install Jupyter Notebook\n",
    "During the summer school, all lessons will be using Jupyter notebook. If you don’t already have Jupyter, install it with: (bash command)\n",
    "\n",
    "`conda install -c conda-forge notebook`\n",
    "\n",
    "Then start it with: (bash command)\n",
    "\n",
    "`jupyter notebook`\n",
    "\n",
    "This will open a web page where you can write and run your Python code step by step.\n",
    "\n",
    "5. Test your setup\n",
    "Open Python or a notebook and try: (python code)\n",
    "```\n",
    "import sunpy\n",
    "import astropy\n",
    "import matplotlib\n",
    "print(\"Packages installed successfully!\")\n",
    "```"
   ]
  },
  {
   "cell_type": "markdown",
   "id": "99935e97-7c38-4c9f-abf8-921affb8db13",
   "metadata": {},
   "source": [
    "***"
   ]
  },
  {
   "cell_type": "markdown",
   "id": "020b7cb6-198b-4029-b771-261ba3920ff8",
   "metadata": {},
   "source": [
    "## Measuring Solar Rotation"
   ]
  },
  {
   "cell_type": "markdown",
   "id": "9d01416b-6254-46d9-bd6d-7f883d7cb19f",
   "metadata": {},
   "source": [
    "<div class=\"alert alert-block alert-info\">\n",
    "    \n",
    "**GOAL :** We want to explore sunspots and see how they help us understand the Sun’s behaviour.\n",
    "\n",
    "**AIM :** You will use SunPy to download real solar images, count sunspots, and track how they move across the Sun.\n",
    "\n",
    "**OUTPUT :** By the end, you will have a picture of the Sun with sunspots marked, a sunspot count, and an estimate of the Sun’s rotation period.\n",
    "</div>"
   ]
  },
  {
   "cell_type": "markdown",
   "id": "bc5fbe93-2289-4e0f-9e4a-7117c4f8a2c3",
   "metadata": {},
   "source": [
    "Let's import the key Python packages that we will need."
   ]
  },
  {
   "cell_type": "code",
   "execution_count": 10,
   "id": "43912eb7-7ba7-471a-ba80-21667790cc27",
   "metadata": {},
   "outputs": [],
   "source": [
    "from sunpy.net import Fido, attrs as a\n",
    "import sunpy.map\n",
    "import matplotlib.pyplot as plt\n",
    "import astropy.units as u\n",
    "from astropy.coordinates import SkyCoord\n",
    "from sunpy.coordinates import frames\n",
    "# make plots interactive\n",
    "%matplotlib widget \n",
    "# if you get an error, make sure you have ipywidgets installed and restart the notebook."
   ]
  },
  {
   "cell_type": "markdown",
   "id": "eb9bd221-8ca6-4fbd-a38a-a751de7e631f",
   "metadata": {},
   "source": [
    "Now we will download some magnetograms from the space-based NASA mission the Solar Dynamics Observatory. The code for this is provided below, as during the summer school, we will go into more detail on how to access real solar data through SunPy. "
   ]
  },
  {
   "cell_type": "code",
   "execution_count": null,
   "id": "b0fb0832-96d7-4f96-897d-09c494ee711f",
   "metadata": {},
   "outputs": [],
   "source": [
    "# Search for HMI continuum images (sunspot visible light data)\n",
    "result = Fido.search(\n",
    "    a.Time(\"2014-10-18 00:00\", \"2014-10-18 01:00\"),\n",
    "    a.Instrument(\"HMI\"),\n",
    "    a.Physobs.intensity\n",
    ")\n",
    "\n",
    "downloaded_files = Fido.fetch(result[0,0:1])\n",
    "map_hmi = sunpy.map.Map(downloaded_files[0])\n",
    "map_hmi.plot()\n",
    "plt.show()"
   ]
  },
  {
   "cell_type": "markdown",
   "id": "cc2ba9bf-44a0-41f0-b54d-5fff00129024",
   "metadata": {},
   "source": [
    "### Task II-1\n",
    "\n",
    "- Manually count how many sunspots you can see in the image.\n"
   ]
  },
  {
   "cell_type": "markdown",
   "id": "4ff4b17c-6595-4bc9-9ed4-0f9e50c00406",
   "metadata": {},
   "source": []
  },
  {
   "cell_type": "markdown",
   "id": "979b722e-e526-4213-975c-16f307d4e9ba",
   "metadata": {},
   "source": [
    "### Task II-2\n",
    "\n",
    "We can use these sunspots to measure the solar rotation period by tracking them as they move across the surface of the Sun. \n",
    "\n",
    "- Using the code above, download another magnetogram a few days later. \n",
    "\n",
    "**Tip:** *Change the date in a.Time.*"
   ]
  },
  {
   "cell_type": "code",
   "execution_count": null,
   "id": "5cc26f71-40f1-4e69-afde-c387ac7766c4",
   "metadata": {},
   "outputs": [],
   "source": []
  },
  {
   "cell_type": "markdown",
   "id": "bbf49c9a-3093-494d-b188-2c51a4e183d4",
   "metadata": {},
   "source": [
    "### Task II-3\n",
    "\n",
    "- Using your cursor, note the helioprojective longitude and latitude of the same sunspot in both images.\n",
    "- Estimate how much the spot has moved across the solar surface in longitude. Convert this from arcseconds to degrees (see code below)."
   ]
  },
  {
   "cell_type": "markdown",
   "id": "b74e035c-882e-4242-83cb-b14bb5a3cdd8",
   "metadata": {},
   "source": [
    "<div class=\"alert alert-block alert-danger\">\n",
    "<b>WARNING:</b> When using interactive plots, you can only view one at a time. If you need to see a previous plot, you will have to re-run the code block. \n",
    "</div>"
   ]
  },
  {
   "cell_type": "code",
   "execution_count": null,
   "id": "a15416c7-843c-493c-99f4-83f8ea7017f8",
   "metadata": {},
   "outputs": [],
   "source": [
    "# Example: a point at X=500\", Y=200\" in the image plane (HPC coords)\n",
    "hpc = SkyCoord(500*u.arcsec, 200*u.arcsec,\n",
    "               frame=frames.Helioprojective,\n",
    "               obstime=\"2014-10-18 00:00\", observer='earth')\n",
    "\n",
    "# Convert HPC -> Heliographic Stonyhurst (HG)\n",
    "hg = hpc.transform_to(frames.HeliographicStonyhurst(obstime=\"2014-10-18 00:00\"))\n",
    "\n",
    "# Extract longitude and latitude in degrees\n",
    "lon_deg = hg.lon.to(u.deg)\n",
    "lat_deg = hg.lat.to(u.deg)\n",
    "\n",
    "print(f\"Heliographic Stonyhurst coordinates: (in degrees)\")\n",
    "print(f\"Longitude = {lon_deg:.2f}, Latitude = {lat_deg:.2f}\")"
   ]
  },
  {
   "cell_type": "code",
   "execution_count": null,
   "id": "2d847c3d-e143-4ca2-b535-f8fda9b4ebff",
   "metadata": {},
   "outputs": [],
   "source": []
  },
  {
   "cell_type": "markdown",
   "id": "333e9889-7deb-4d03-8a85-5de70afca54a",
   "metadata": {},
   "source": [
    "### Task II-4\n",
    "\n",
    "- Using the below formula and the distance calculated in part 3 above, determine what the solar rotation period is.\n",
    "\n",
    "###  $P\\odot \\sim \\frac{360}{\\Delta distance} \\times \\Delta time$"
   ]
  },
  {
   "cell_type": "code",
   "execution_count": null,
   "id": "a4f805d6-16b5-4f56-b028-e033bc20cea1",
   "metadata": {},
   "outputs": [],
   "source": []
  }
 ],
 "metadata": {
  "kernelspec": {
   "display_name": "Python 3 (ipykernel)",
   "language": "python",
   "name": "python3"
  },
  "language_info": {
   "codemirror_mode": {
    "name": "ipython",
    "version": 3
   },
   "file_extension": ".py",
   "mimetype": "text/x-python",
   "name": "python",
   "nbconvert_exporter": "python",
   "pygments_lexer": "ipython3",
   "version": "3.13.5"
  }
 },
 "nbformat": 4,
 "nbformat_minor": 5
}

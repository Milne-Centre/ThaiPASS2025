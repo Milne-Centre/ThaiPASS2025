{
 "cells": [
  {
   "cell_type": "markdown",
   "id": "a1deaa08-83af-4959-8a87-004e0bdcef1a",
   "metadata": {},
   "source": [
    "# SOLAR IV - Stellar Flares "
   ]
  },
  {
   "cell_type": "markdown",
   "id": "feb981b2-e155-46bc-9fac-79b99cd5de58",
   "metadata": {},
   "source": [
    "So far, we have been investigating solar activity with a focus on solar flares. However, we also know that other stars can also show similar behaviour, and this has become a rapidly growing field within astronomy. Therefore, in this session, we will focus on looking at stellar flares on stars outside our solar system!"
   ]
  },
  {
   "cell_type": "markdown",
   "id": "38e7a854-f97f-4828-bdfd-bda962ab332a",
   "metadata": {},
   "source": [
    "<div class=\"alert alert-block alert-info\">\n",
    "    \n",
    "**GOAL :** In this session, we are going to be using data from TESS, to investigate stellar flares on other stars. \n",
    "\n",
    "**AIM :** To understand how to access, manipulate and plot timeseries data of other stars from space-based missions. \n",
    "\n",
    "**OUTPUT :** Create light curve plots, determine the rotation period and activity levels for a sample of stars. \n",
    "</div>"
   ]
  },
  {
   "cell_type": "markdown",
   "id": "884756ff-4188-4106-84bc-1d0f187e9ef2",
   "metadata": {},
   "source": [
    "To achieve our goals and aims, we will be using the Python package __[Lightkurve](https://lightkurve.github.io/lightkurve/index.html)__, which is a powerful tool for downloading, manipulating and analysing space-based data from missions such as Kepler and the Transiting Exoplanet Survey Satellite (TESS). \n",
    "\n",
    "If you haven't already, you can install the `lightkurve` Python package by running the bash command:\n",
    ">`pip install lightkurve`"
   ]
  },
  {
   "cell_type": "markdown",
   "id": "a672067d-0533-4c02-a98f-314eee18dd29",
   "metadata": {},
   "source": [
    "## Transiting Exoplanet Survey Satellite (TESS)"
   ]
  },
  {
   "cell_type": "markdown",
   "id": "240033ca-e6c4-41fe-a0a1-29cb2ae4988a",
   "metadata": {},
   "source": [
    "![title](TESS.png)"
   ]
  },
  {
   "cell_type": "markdown",
   "id": "cb9d523e-b1b9-45ce-814e-d9b72f4400c2",
   "metadata": {},
   "source": [
    "__[The Transiting Exoplanet Survey Satellite (TESS)](https://science.nasa.gov/mission/tess/)__ is a NASA mission launched in 2018 to search for planets around nearby, bright stars. It is the successor to the __[Kepler](https://science.nasa.gov/mission/kepler/mission)__, but is designed to observe nearly the entire sky. While TESS’s main goal is to find exoplanets, its continuous, precise light curves are also perfect for detecting stellar flares, pulsations, eclipses, and other variability, helping us learn more about stars themselves.\n",
    "\n",
    "In the previous session, we looked at time series light curve data from X-ray and Extreme Ultraviolet instruments. Here, we will focus on using data from TESS, which observes in the visible wavelengths of the electromagnetic spectrum (i.e. what can be seen by the human eye).  \n",
    "\n",
    "TESS has four identical, highly optimised, red-sensitive, wide-field cameras that together can monitor a 24-degree by 90-degree strip of the sky (see images above). By monitoring each strip for 27 days and nights (called a sector) at 2-second cadence, TESS will tile the southern and northern hemisphere sky year after year. Full details of the observational schedule can be found __[here](https://tess.mit.edu/observations/)__. \n",
    "\n",
    "**Note:** Please read/browse the information on the provided links, as this will give you a good overview of the mission before starting the Python work. Feel free to do your own reading and find out about Kepler as well!"
   ]
  },
  {
   "cell_type": "markdown",
   "id": "b8d074f4-73ce-43a5-b6e2-feffae98ba1b",
   "metadata": {},
   "source": [
    "***"
   ]
  },
  {
   "cell_type": "markdown",
   "id": "2a042147-e7bb-4fea-bc6f-c9fe944ff437",
   "metadata": {},
   "source": [
    "### Accessing TESS data using lightkurve"
   ]
  },
  {
   "cell_type": "markdown",
   "id": "46790704-61ee-4e2b-9e6e-641f927b0dc0",
   "metadata": {},
   "source": [
    "First let's import some Python packages we will need, including lightkurve. "
   ]
  },
  {
   "cell_type": "code",
   "execution_count": 87,
   "id": "36ed7d6b-9d07-46bf-a3f0-762dc8df0da1",
   "metadata": {},
   "outputs": [],
   "source": [
    "import numpy as np\n",
    "import pandas as pd\n",
    "import matplotlib.pyplot as plt\n",
    "from scipy.signal import find_peaks, peak_widths\n",
    "import math\n",
    "\n",
    "import lightkurve as lk"
   ]
  },
  {
   "cell_type": "markdown",
   "id": "a873980a-5aa2-4ed9-9ba2-4901db2a3f86",
   "metadata": {},
   "source": [
    "Lightkurve uses __[Astroquery](https://astroquery.readthedocs.io/en/latest/)__ to search for data products. Astroquery allows searches based on a target’s coordinates, catalog ID number, or name. This is passed into the search function using the target keyword, where there are many valid inputs, but we will use the name of the object as a string, for example, \"AU Mic\".\n",
    "\n",
    "Below, we use the `search_lightcurve` function to find data for a well-known active star using its name and filtering by the mission TESS."
   ]
  },
  {
   "cell_type": "code",
   "execution_count": 16,
   "id": "f38381b4-83e5-4e3f-8b8e-ad0ad45bff23",
   "metadata": {},
   "outputs": [
    {
     "name": "stdout",
     "output_type": "stream",
     "text": [
      "SearchResult containing 12 data products.\n",
      "\n",
      " #     mission     year       author      exptime target_name distance\n",
      "                                             s                 arcsec \n",
      "--- -------------- ---- ----------------- ------- ----------- --------\n",
      "  0 TESS Sector 01 2018              SPOC     120   441420236      0.0\n",
      "  1 TESS Sector 27 2020              SPOC      20   441420236      0.0\n",
      "  2 TESS Sector 27 2020              SPOC     120   441420236      0.0\n",
      "  3 TESS Sector 01 2018         TESS-SPOC    1800   441420236      0.0\n",
      "  4 TESS Sector 27 2020         TESS-SPOC     600   441420236      0.0\n",
      "  5 TESS Sector 01 2018               QLP    1800   441420236      0.0\n",
      "  6 TESS Sector 27 2020               QLP     600   441420236      0.0\n",
      "  7 TESS Sector 01 2018             TASOC     120   441420236      0.0\n",
      "  8 TESS Sector 01 2018 GSFC-ELEANOR-LITE    1800   441420236      0.0\n",
      "  9 TESS Sector 01 2018             TASOC    1800   441420236      0.0\n",
      " 10 TESS Sector 01 2018             TASOC    1800   441420236      0.0\n",
      " 11 TESS Sector 27 2020             CDIPS    1800   441420236      0.0\n"
     ]
    }
   ],
   "source": [
    "Target = \"AU Mic\"\n",
    "search = lk.search_lightcurve(Target, mission=\"TESS\")\n",
    "print(search)"
   ]
  },
  {
   "cell_type": "markdown",
   "id": "f8daa77c-2608-4ba2-bf9d-4561b55753de",
   "metadata": {},
   "source": [
    "As you can see, there are a number of data files avaliable from different authors and with varying cadence (i.e. exposure times). During this session, we will focus on using 2-min cadence (120 second exposure time) data, processed by the TESS __[Science Processing Operations Center (SPOC)](https://archive.stsci.edu/hlsp/tess-spoc)__. Therefore, we can filter our search further by including the `exptime` and `author` keywords. "
   ]
  },
  {
   "cell_type": "code",
   "execution_count": 18,
   "id": "2ac8cb87-b2e9-4844-8f45-dbe53545d78e",
   "metadata": {},
   "outputs": [
    {
     "name": "stdout",
     "output_type": "stream",
     "text": [
      "SearchResult containing 2 data products.\n",
      "\n",
      " #     mission     year author exptime target_name distance\n",
      "                                  s                 arcsec \n",
      "--- -------------- ---- ------ ------- ----------- --------\n",
      "  0 TESS Sector 01 2018   SPOC     120   441420236      0.0\n",
      "  1 TESS Sector 27 2020   SPOC     120   441420236      0.0\n"
     ]
    }
   ],
   "source": [
    "search_spoc = lk.search_lightcurve(Target, mission=\"TESS\", author = \"SPOC\", exptime = 120)\n",
    "print(search_spoc)"
   ]
  },
  {
   "cell_type": "markdown",
   "id": "30077a79-ec67-4aa5-ab65-6dece3480ae4",
   "metadata": {},
   "source": [
    "Now we can see AU Mic has been observed by TESS in two different sectors, 1 and 27, which are separated by about 700 days (~ 2 years). You can see this in the year column, and for more information on the TESS observing strategy, see the links at the beginning of the notebook. \n",
    "\n",
    "We can download both of these and stitch them together, or we can work with only one sector. "
   ]
  },
  {
   "cell_type": "code",
   "execution_count": 22,
   "id": "e28a3e9a-6711-40cf-8f34-8d980cb348a9",
   "metadata": {},
   "outputs": [],
   "source": [
    "# You can download all light curves and stitch them together. \n",
    "lc_collection = search_spoc.download_all()\n",
    "lc = lc_collection.stitch().remove_nans()\n",
    "\n",
    "# Or you can select one to download.\n",
    "lc_single= search_spoc[0].download(download_dir = 'add/here/').remove_nans()"
   ]
  },
  {
   "cell_type": "markdown",
   "id": "621d1722-3729-4d26-8969-f2627c300b47",
   "metadata": {},
   "source": [
    "We can then normalise and examine the light curve using the plot method."
   ]
  },
  {
   "cell_type": "code",
   "execution_count": 34,
   "id": "09c010ec-a79e-4993-ad94-703157c3bb83",
   "metadata": {},
   "outputs": [
    {
     "data": {
      "image/png": "[encoded data removed]",
      "text/plain": [
       "<Figure size 848.5x400 with 1 Axes>"
      ]
     },
     "metadata": {},
     "output_type": "display_data"
    }
   ],
   "source": [
    "lc_norm = lc_single.normalize()\n",
    "lc_norm.plot();\n",
    "plt.show()"
   ]
  },
  {
   "cell_type": "markdown",
   "id": "aa168d18-150e-43e0-8012-c17512677f4c",
   "metadata": {},
   "source": [
    "If required, you can also flatten the light curve to remove the sinusoidal trend. This is sometimes useful when identifying flares and searching for exoplanet transits. You can edit the `window_length` keyword to change the length of the filter window used. "
   ]
  },
  {
   "cell_type": "code",
   "execution_count": null,
   "id": "1bec1366-8399-49f7-8f10-4c03d638b8c7",
   "metadata": {},
   "outputs": [],
   "source": [
    "lc_flat = lc_norm.flatten(window_length=401, polyorder=2)"
   ]
  },
  {
   "cell_type": "markdown",
   "id": "343ddcb0-81d0-437f-80e2-4505cdd4aaf7",
   "metadata": {},
   "source": [
    "## Task IV-1\n",
    "- Create a normalised light curve plot for one TESS sector in 2-minute cadence of the star GJ 1243. \n",
    "- If there is more than one sector, create a second plot with all data stitched together and normalised. "
   ]
  },
  {
   "cell_type": "code",
   "execution_count": null,
   "id": "13b86bf4-1aa1-4393-b610-73e7bec6cd6d",
   "metadata": {},
   "outputs": [],
   "source": []
  },
  {
   "cell_type": "markdown",
   "id": "211a096c-c101-431e-9f84-53b09c0efeb0",
   "metadata": {},
   "source": [
    "### Determining Stellar Rotation Periods"
   ]
  },
  {
   "cell_type": "markdown",
   "id": "d1ef0eb4-cdbe-419c-a1cf-74589579152b",
   "metadata": {},
   "source": [
    "You may notice the sinusoidal pattern in the data. This is a result of star spots on the surface rotating in and out of view (see Figure below). Therefore, we can use these to estimate the stellar rotation period of the star.\n",
    "\n",
    "In astronomy, a Lomb-Scargle Periodogram is a powerful statistical tool which can be used to search for periodic signals within time series data. Within the `lightkurve` package, there is a `to_periodogram()` function which can do this. \n",
    "\n",
    "You can also identify the highest peak using `period_at_max_power` and fold the data using `fold` to see how well it lines up. "
   ]
  },
  {
   "cell_type": "markdown",
   "id": "5e0026be-825b-4f45-8265-394cf4d36d96",
   "metadata": {},
   "source": [
    "![title](Rotation.png)"
   ]
  },
  {
   "cell_type": "markdown",
   "id": "81d8958d-54c0-459d-9f1f-23949868fb76",
   "metadata": {},
   "source": [
    "## Task IV-2\n",
    "- Estimate the stellar rotation period of the star using a single sector of TESS data.\n",
    "- Plot the power spectrum.\n",
    "- Fold and plot the light curve on the determined rotational period.\n",
    "- Does everything line up? Is there anything you notice?\n",
    "\n",
    "**Hint:** For some tips and pointers, see __[this guide](https://lightkurve.github.io/lightkurve/tutorials/3-science-examples/periodograms-creating-periodograms.html)__."
   ]
  },
  {
   "cell_type": "code",
   "execution_count": null,
   "id": "3a92226b-efae-4672-83e3-54a2842db347",
   "metadata": {},
   "outputs": [],
   "source": []
  },
  {
   "cell_type": "markdown",
   "id": "53166a19-8ba8-4241-820a-80bc7e655578",
   "metadata": {},
   "source": [
    "## Task IV-3 \n",
    "- Repeat Task IV-2 using multiple sectors of TESS data.\n",
    "- Is there a difference in the rotation period you obtain between using one sector of data and multiple sectors?\n",
    "- Comment on your findings and suggest what could be happening?"
   ]
  },
  {
   "cell_type": "code",
   "execution_count": null,
   "id": "90198a48-da1c-4357-b26a-20a42b1886b8",
   "metadata": {},
   "outputs": [],
   "source": []
  },
  {
   "cell_type": "markdown",
   "id": "e62e3997-6631-4451-8965-46e0e5f89fd9",
   "metadata": {},
   "source": [
    "<div class=\"alert alert-block alert-warning\">\n",
    "<b>CHECKPOINT 1:</b> Find a demonstrator and show them your rotation period plots, discussing what you have found, before progressing to the next task.\n",
    "</div>"
   ]
  },
  {
   "cell_type": "markdown",
   "id": "0b2d7aeb-de30-4d61-bd05-c6e6a8ad8920",
   "metadata": {},
   "source": [
    "### Identifying Stellar Flares"
   ]
  },
  {
   "cell_type": "markdown",
   "id": "3423ea7b-8cf1-406a-a3dd-5dcd5db6b051",
   "metadata": {},
   "source": [
    "While you have been analysing the stellar rotation period of your target star with TESS, you may have noticed there are many sharp peaks throughout the light curve. These are stellar flares which appear as sharp rises in brightness of the star, followed by a slow exponential decay (see diagram below). \n",
    "\n",
    "There are many different Python codes available which can identify and classify stellar flare events in time series observations. We will focus on using the __[Altaipony](https://altaipony.readthedocs.io/en/latest/index.html)__ Python package, which is a toolbox for statistical flare studies in photometric time series from Kepler, K2, and TESS, including flare search and characterisation. \n",
    "\n",
    "We import Altaipony: (can be installed as `pip install altaipony`)\n",
    ">`from altaipony.flarelc import FlareLightCurve` \n",
    "\n",
    "To search for stellar flares, we can run the following on our TESS data obtained through lightkurve:\n",
    "\n",
    ">`flc = FlareLightCurve(time=lc.time, flux=lc.flux, flux_err = lc.flux_err, mission = 'TESS')`\n",
    "\n",
    ">`flcd = flc.find_flares()`\n",
    "\n",
    "This will return the initial light curve with a new attribute - flares, which is a DataFrame containing columns of flare properties. Once we have a list of stellar flares, we can then examine their properties, such as duration and energy, and create a Cumulative Flare Frequency (CFF) plot, which shows how many flares of a particular energy you would expect to see on the star (see plot below). \n",
    "\n",
    "The flare properties we will be interested in are:\n",
    "- `ampl_rec` - amplitude measured relative to the quiescent stellar flux\n",
    "- `ed_rec` - equivalent duration of the flare (i.e. the area under the light curve)\n",
    "- `tstart`, `tstop` - start and end of flare candidates\n",
    "- `dur` - flare duration, which is tstop-tstart\n"
   ]
  },
  {
   "cell_type": "markdown",
   "id": "b143aeb0-b015-438e-bd6e-7cce983126e8",
   "metadata": {},
   "source": [
    "![title](stellar_flares.png)"
   ]
  },
  {
   "cell_type": "markdown",
   "id": "c1407212-ddb2-4d5c-a751-473c2dce5a63",
   "metadata": {},
   "source": [
    "## Task IV-4 \n",
    "Before we can identify any flares, we should remove the sinusoidal signal caused by the rotation of the star. To do this, we can use the flatten function (__[see here](https://lightkurve.github.io/lightkurve/reference/api/lightkurve.LightCurve.flatten.html)__).\n",
    "\n",
    "- Flatten the normalised light curve from Task IV-1 and plot.\n",
    "\n",
    "**Note:** You may need to play around with the `window_length` keyword."
   ]
  },
  {
   "cell_type": "code",
   "execution_count": null,
   "id": "300e5d93-ed18-4a8f-85d5-7a006354014d",
   "metadata": {},
   "outputs": [],
   "source": []
  },
  {
   "cell_type": "markdown",
   "id": "26e08b47-b44b-4e18-a2f6-45f76afefda0",
   "metadata": {},
   "source": [
    "## Task IV-5\n",
    "- Using Altaipony, identify all flares within the flattened light curve and print a Table of their properties.\n",
    "\n",
    "**Hint:** For some tips and pointers, see __[this guide](https://altaipony.readthedocs.io/en/latest/tutorials/altai.html)__."
   ]
  },
  {
   "cell_type": "code",
   "execution_count": null,
   "id": "662e4c8d-3afe-4af3-b564-64739d7cf69e",
   "metadata": {},
   "outputs": [],
   "source": []
  },
  {
   "cell_type": "markdown",
   "id": "d265c99f-f0ea-4b07-9e9c-563f11b8c193",
   "metadata": {},
   "source": [
    "### Calculating Stellar Flare Energies"
   ]
  },
  {
   "cell_type": "markdown",
   "id": "e9920698-0af2-41c8-b02b-16663ece28fc",
   "metadata": {},
   "source": [
    "The energy of a flare is calculated using the equivalent duration (t), which represents the area under the flare light curve, as follows: \n",
    "\n",
    "###  $E_{flare} = L_{*} \\times t$\n",
    "\n",
    "We can then compare these flare energies to the solar flare classification as follows:\n",
    "- **X10**: > 10<sup>32</sup> erg\n",
    "- **X**: 10<sup>31</sup> – 10<sup>32</sup> erg\n",
    "- **M**: 10<sup>30</sup> – 10<sup>31</sup> erg\n",
    "- **C**: 10<sup>29</sup> – 10<sup>30</sup> erg\n",
    "- **B**: 10<sup>28</sup> – 10<sup>29</sup> erg\n",
    "- **A**: < 10<sup>28</sup> erg"
   ]
  },
  {
   "cell_type": "markdown",
   "id": "443e76b9-f75f-4d2f-ba8b-3ab29036a9b9",
   "metadata": {},
   "source": [
    "## Task IV-6 \n",
    "- If you assume the log luminosity of GJ 1243 in the TESS bandpass to be 31.06 erg/s, calculate the energy of the identified flares.\n",
    "- Using the solar flare classification scheme above, what is the range in magnitude of the flares on GJ 1243?"
   ]
  },
  {
   "cell_type": "code",
   "execution_count": null,
   "id": "866cc2c2-3c47-4840-8ce1-ff6f70ac8ee9",
   "metadata": {},
   "outputs": [],
   "source": []
  },
  {
   "cell_type": "markdown",
   "id": "0141f5cd-aef9-4820-bb85-2c0b42c79e53",
   "metadata": {},
   "source": [
    "## Task IV-7 \n",
    "- Using the energies calculated in the previous task, plot the following distributions:\n",
    "    - histogram plot of flare energy\n",
    "    - Flare energy vs duration\n",
    "- What can you say about the flare activity on GJ 1243?"
   ]
  },
  {
   "cell_type": "code",
   "execution_count": null,
   "id": "1ca5052d-de4e-4618-87d2-9339de93a485",
   "metadata": {},
   "outputs": [],
   "source": []
  },
  {
   "cell_type": "markdown",
   "id": "9f547e2d-eecc-445a-88e9-a928b0d55e89",
   "metadata": {},
   "source": [
    "<div class=\"alert alert-block alert-warning\">\n",
    "<b>CHECKPOINT 2:</b> Find a demonstrator and show them your flare statistics and plots for GJ 1243 and discuss what this shows."
   ]
  },
  {
   "cell_type": "markdown",
   "id": "4e49ae38-db91-42b9-832a-3fd31f3b1d58",
   "metadata": {},
   "source": [
    "## Task IV-8 (optional)\n",
    "If you have completed all of the tasks and have remaining time, then you are now an expert in identifying and classifying stellar flares! \n",
    "You may want to consider further analysis, such as:\n",
    "\n",
    "- Looking at other active stars such as Proxima Centauri, Barnard's Star or TRAPPIST-1.\n",
    "- Looking at additional sectors of TESS data for GJ 1243. Is there a difference in flares between them?"
   ]
  }
 ],
 "metadata": {
  "kernelspec": {
   "display_name": "Python 3 (ipykernel)",
   "language": "python",
   "name": "python3"
  },
  "language_info": {
   "codemirror_mode": {
    "name": "ipython",
    "version": 3
   },
   "file_extension": ".py",
   "mimetype": "text/x-python",
   "name": "python",
   "nbconvert_exporter": "python",
   "pygments_lexer": "ipython3",
   "version": "3.13.5"
  }
 },
 "nbformat": 4,
 "nbformat_minor": 5
}

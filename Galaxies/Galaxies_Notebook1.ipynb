{
 "cells": [
  {
   "cell_type": "markdown",
   "metadata": {},
   "source": [
    "\n",
    "# Galactic Astrophysics Notebook\n"
   ]
  },
  {
   "cell_type": "markdown",
   "metadata": {},
   "source": [
    "## Part 1: Rotation Curves \n",
    "\n",
    "You have just been introduced to the idea of rotation curves of galaxies and the questions that arise from these measurements. This task will allow you to compare real observational data to theoretical models of what galaxies are made of. \n",
    "\n",
    "Tasks 1.1 and 1.2 were given in the pre-ThaiPASS homework. If you have completed the homework already, you can skip to task 2.3.\n",
    "\n",
    "Stars move in orbits around the centre of mass of a galaxy due to the force of gravity. The magnitude of the orbital velocity depends on the enclosed mass (the mass inside the orbit) and the distance of the star from the centre of the galaxy (the radius). In this exercise we will explore the orbital velocity of stars in a galaxy and construct a rotation curve. \n",
    "There are two data files that you will need for these tasks, you can find them on the Github Page: https://github.com/Milne-Centre/ThaiPASS2025\n",
    "\n",
    "\n"
   ]
  },
  {
   "cell_type": "markdown",
   "metadata": {},
   "source": [
    "### Task 1.1\n",
    "\n",
    "The file rc100224.dat contains the orbital velocities of stars in a galaxy and their radial distance from the centre of the galaxy. The first column of the file contains the radius (kpc: kiloparsec) and the second column contains observed orbital velocity (km/s: in kilometres per second). Read in the data from the file and plot the radial distance on the x-axis and the orbital velocity on the y-axis, this is the 'rotation curve' of the galaxy. \n",
    "\n",
    "You should use the data file *rc100224.dat*\n",
    "\n",
    "\n"
   ]
  },
  {
   "cell_type": "code",
   "execution_count": null,
   "metadata": {},
   "outputs": [],
   "source": []
  },
  {
   "cell_type": "code",
   "execution_count": null,
   "metadata": {},
   "outputs": [],
   "source": []
  },
  {
   "cell_type": "code",
   "execution_count": null,
   "metadata": {},
   "outputs": [],
   "source": []
  },
  {
   "cell_type": "markdown",
   "metadata": {},
   "source": [
    "### Task 1.2\n",
    "\n",
    "For this task you will use a real mass distribution data from a model of the Andromeda galaxy (M31) to calculate the orbital velocities. The mass distribution is of only baryonic matter (stars and gas). You will use the mass distribution to calculate and plot the rotation curve of the galaxy.\n",
    "\n",
    "From the data file, remember that you need to use the cumulative/enclosed mass.\n",
    "\n",
    "You can then use Kepler's Laws of Planetary Motion (see day one lecture slides) to calculate the orbital velocities of stars as a function of radial distance and plot this as a line graph.\n",
    "\n",
    "You should then compare your graph to the one you made in task one and comment on any differences you find.\n",
    "\n",
    "You should use the data file M31_mass2.dat\n",
    "The first column of the file contains the radius (pc) and the second column contains the mass at that radius.\n",
    "\n",
    "\n",
    "\n",
    "Now you will use real mass distribution data from a model of the Andromeda galaxy (M31) to calculate the orbital velocities of stars. The mass distribution is of only baryonic matter (stars and gas). You will use the mass distribution to calculate and plot the rotation curve of the galaxy.\n",
    "\n",
    "You should use the data file M31_mass2.dat\n",
    "\n",
    "The first column of the file contains the radius (pc: parsec) and the second column contains the total, enclosed, mass at that radius (and within it).Note that the units of radius are different here, there are 1000pc in 1kpc, ensure to use units of kpc in equation 1. \n",
    "\n",
    "You can then use the equation below, derived from Kepler's Laws of Planetary Motion to calculate the orbital velocities of stars as a function of radial distance and plot this as a line graph.\n",
    "   \n",
    "$ v = \\sqrt{\\frac{GM(r)}{r}} $ (Equation 1)\n",
    "\n",
    "\n",
    "You can use the following value for the gravitational constant (if r in used in kpc, M is used in solar masses, v will be output in km/s):\n",
    "\n",
    "$G=4.30091\\times 10^{-6} \\frac{pc (km/s)^{2}}{M_{\\odot}^{-1}}$. \n",
    "\n",
    "    \n",
    "You should then compare your graph to the one you made in the first task and comment on any differences you find.\n",
    "    \n"
   ]
  },
  {
   "cell_type": "code",
   "execution_count": null,
   "metadata": {},
   "outputs": [],
   "source": []
  },
  {
   "cell_type": "code",
   "execution_count": null,
   "metadata": {},
   "outputs": [],
   "source": []
  },
  {
   "cell_type": "code",
   "execution_count": null,
   "metadata": {
    "scrolled": true
   },
   "outputs": [],
   "source": []
  },
  {
   "cell_type": "markdown",
   "metadata": {},
   "source": [
    "### Task 1.3\n",
    "\n",
    "We have seen that the two rotation curves differ as dark matter is not accounted for in the baryonic mass used in task 1.2. You will now modify the model from task two to see how this affects the rotation curve. \n",
    "\n",
    "To modify our model we will add a *non-baryonic component* to the mass distribution in the form of a dark matter mass profile.\n",
    "\n",
    "For this task, you will first define a *density profile* for the dark matter, which describes the distribution of the mass. You will have to calculate the mass distribution in task 1.4 from this density profile. \n",
    "\n",
    "First, define a function to calculate the density at a given radius ($\\rho(r)$ of the dark matter distribution using the NFW profile (please refer to lecture slides). \n",
    "\n",
    "$\\Large \\rho(r)=\\frac{\\rho_0}{\\frac{r}{r_s}(1+\\frac{r}{r_s})^2}$\n",
    "\n",
    "\n",
    "For the constants, use: $\\rho_c = 2.1 \\times 10^3 M_{\\odot}kpc^{-3}, r_c = 16.5 \\times 10^3 kpc$\n",
    "For initial conditions, use $\\rho(r)\\rvert_{r = 0} = \\rho_c$\n",
    "\n",
    "As you will be adding this dark matter mass to the baryonic mass in task 2.2 (from the file M31_mass2.dat) you should use the same radii values. \n",
    "\n",
    "Hint: Use a function which takes in a radius, r, and outputs the density at that radius. Use a loop in the function to loop of the values for the radius given in the last task to calculate the density values at these values of radius. \n"
   ]
  },
  {
   "cell_type": "code",
   "execution_count": null,
   "metadata": {},
   "outputs": [],
   "source": []
  },
  {
   "cell_type": "markdown",
   "metadata": {},
   "source": [
    "### Task 1.4\n",
    "\n",
    "This part of the task is to calculate the dark matter mass profile from the density profile that you have defined.\n",
    "\n",
    "Recall that the enclosed dark matter mass in this profile is given as: \n",
    "\n",
    "$M(r)= \\int 4  \\pi r^2 \\rho(r) dr$\n",
    "\n",
    "To solve this in python, we will use the forward Euler method. This can be used to solve ordinary differential equations with a given initial value (see https://en.wikipedia.org/wiki/Euler_method for more information).\n",
    "\n",
    "Given the ordinary differential equation:\n",
    "\n",
    "$M'(r) = \\dfrac{dM(r)}{dr} = 4 \\pi r^2 \\rho(r)$,    \n",
    "\n",
    "\n",
    "The mass at some radius, n+1 can be approximated by\n",
    "\n",
    "$M_{n+1} = M_n + h \\left( 4 \\pi r_n^2 \\rho_n  \\right)$\n",
    "\n",
    "Where h is the size of the step taken along the x-axis, this is the difference in radius between the steps, so:\n",
    "\n",
    "Use $h = r_{n+1} - r_n$ and $r$ to be the M31 radius data.\n",
    "\n",
    "$M_n$ is the mass at the previous step\n",
    "\n",
    "And remember that you need to use the enclosed mass -- **not** the mass at point $r$.\n",
    "\n",
    "\n",
    "\n",
    "For initial conditions, use $M(0) = 0$. Use $r$ to be the M31 radius data.\n",
    "\n",
    "\n",
    "Define a function which returns the enclosed dark matter mass given the radius and density of the dark matter halo. "
   ]
  },
  {
   "cell_type": "code",
   "execution_count": null,
   "metadata": {},
   "outputs": [],
   "source": []
  },
  {
   "cell_type": "markdown",
   "metadata": {},
   "source": [
    "Add the dark matter mass to the baryonic mass from task 1.2 together (at the same radius), then plot all three curves on the same graph. "
   ]
  },
  {
   "cell_type": "code",
   "execution_count": null,
   "metadata": {},
   "outputs": [],
   "source": []
  },
  {
   "cell_type": "markdown",
   "metadata": {},
   "source": [
    "### Additional information\n",
    "\n",
    "If you want to do more plotting, more data of rotation curves is available at at http://www.ioa.s.u-tokyo.ac.jp/~sofue/smd2018/Atlas_data_S-galaxies/\n",
    "\n",
    "You can press a number and find a list of data files. <code>rc[number].dat</code> are the rotation curves\n",
    "\n",
    "'100000' is the Milky Way and '100224' is the Andromeda galaxy."
   ]
  },
  {
   "cell_type": "markdown",
   "metadata": {},
   "source": [
    "## Part 2: Rotation curves - advanced\n",
    "\n",
    "### Task 2.1\n",
    "\n",
    "This task is to construct the baryonic mass distribution yourself. This is based of the paper here: https://arxiv.org/pdf/1208.5712.pdf\n",
    "\n",
    "Note that this is not following the paper strictly as there are some simplifications made\n"
   ]
  },
  {
   "cell_type": "markdown",
   "metadata": {},
   "source": [
    "### Task 2.1\n",
    "\n",
    "There are different parts of a galaxy that have different mass distributions. For simplicity, we only assume three copmonents:\n",
    "\n",
    "A stellar bulge (round mass of stars in the centre of the galaxy)\n",
    "A stellar disc (disk component which extends throughout the galaxy)\n",
    "A stellar halo (a round component which extends above and beyond the disk) \n",
    "\n",
    "Using the following equation, calculate the density profiles for each component\n",
    "$\\rho(r) = \\rho_c \\text{ exp}\\left(-d_N \\left[\\left(\\dfrac{r}{a_c}\\right)^{N-1}-1\\right]\\right)$,\n",
    "where <br/>\n",
    "name $=[\\text{bulge, disc, stellar component}]$, <br/>\n",
    "$\\rho_c = [9.201e-1, 1.307e-2, 4.459e-4]$, <br/>\n",
    "$a_c = [1.055, 9.0, 11.22]$, <br/>\n",
    "$d_N[7.769, 3.273, 8.669]$, <br/>\n",
    "$N=[2.7, 1.2, 3.0]$\n",
    "\n",
    "For a detailed explanation of each parameter, look at the paper (equation 2)"
   ]
  },
  {
   "cell_type": "code",
   "execution_count": null,
   "metadata": {},
   "outputs": [],
   "source": []
  },
  {
   "cell_type": "markdown",
   "metadata": {},
   "source": [
    "### Task 2.2\n",
    "\n",
    "In this task, you should calculate the mass in each interval. M(0) = 0\n",
    "\n",
    "The approach is similar to what you did for the dark matter profile in the other notebook"
   ]
  },
  {
   "cell_type": "code",
   "execution_count": null,
   "metadata": {},
   "outputs": [],
   "source": []
  },
  {
   "cell_type": "markdown",
   "metadata": {},
   "source": [
    "### Task 2.3\n",
    "\n",
    "Now calculate the orbital velocities for each component and plot it. This way, you can see how the different components contribute to the orbital velocities. \n",
    "\n",
    "Plot the complete rotation curve, which means you have to add the mass from each component in each element."
   ]
  },
  {
   "cell_type": "code",
   "execution_count": null,
   "metadata": {},
   "outputs": [],
   "source": []
  },
  {
   "cell_type": "markdown",
   "metadata": {},
   "source": [
    "### Task 2.4\n",
    "Time for you to experiment! Ideas for experimentation:\n",
    "\n",
    "* Try changing the parameters ($\\rho_c, a_c, N, d_N$) and see how it changes the distributions.\n",
    "* Try adding more mass components and see how you can change the orbital velocity contributions.\n",
    "* Try different distribution functions, e.g NFW"
   ]
  },
  {
   "cell_type": "code",
   "execution_count": null,
   "metadata": {},
   "outputs": [],
   "source": []
  },
  {
   "cell_type": "markdown",
   "metadata": {},
   "source": []
  },
  {
   "cell_type": "code",
   "execution_count": null,
   "metadata": {},
   "outputs": [],
   "source": []
  },
  {
   "cell_type": "code",
   "execution_count": null,
   "metadata": {},
   "outputs": [],
   "source": []
  }
 ],
 "metadata": {
  "kernelspec": {
   "display_name": "Python 3 (ipykernel)",
   "language": "python",
   "name": "python3"
  },
  "language_info": {
   "codemirror_mode": {
    "name": "ipython",
    "version": 3
   },
   "file_extension": ".py",
   "mimetype": "text/x-python",
   "name": "python",
   "nbconvert_exporter": "python",
   "pygments_lexer": "ipython3",
   "version": "3.9.5"
  }
 },
 "nbformat": 4,
 "nbformat_minor": 2
}

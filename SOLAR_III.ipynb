{
 "cells": [
  {
   "cell_type": "markdown",
   "id": "fde995c0-9068-4884-a769-4b19aa791cda",
   "metadata": {},
   "source": [
    "# SOLAR III - Solar Flares "
   ]
  },
  {
   "cell_type": "markdown",
   "id": "a4a33e2b-b247-4680-803f-e52d6db5f1b5",
   "metadata": {},
   "source": [
    "Now that we have explored the Sun's surface, we are going to dive in and focus on one particular solar phenomenon - solar flares!"
   ]
  },
  {
   "cell_type": "markdown",
   "id": "742e5dd2-70ad-4982-a0d1-c21834d2916e",
   "metadata": {},
   "source": [
    "<div class=\"alert alert-block alert-info\">\n",
    "    \n",
    "**GOAL :** In this session we are going to look at solar flare events as light curves in varying wavelengths rather than as images. \n",
    "\n",
    "**AIM :** To understand how to access, manipulate and plot time series of solar flare events. \n",
    "\n",
    "**OUTPUT :** Create light curves in varying wavelengths of the same flare events using different instruments.\n",
    "</div>"
   ]
  },
  {
   "cell_type": "markdown",
   "id": "faaf6dd8-804f-4d17-9caa-bdb84d9625e3",
   "metadata": {},
   "source": [
    "Solar flares are powerful, eruptive events that are seen across the entire **electromagnetic spectrum**."
   ]
  },
  {
   "cell_type": "markdown",
   "id": "597e8312-b238-4f25-bb7d-894193d23be4",
   "metadata": {},
   "source": [
    "![title](EM_spectrum_sun.png)"
   ]
  },
  {
   "cell_type": "markdown",
   "id": "28e8cda7-1ed1-4888-945e-a358426554ba",
   "metadata": {},
   "source": [
    "They result from a build-up of magnetic energy that is converted into kinetic energy, thermal energy, and particle acceleration through **magnetic reconnection**, where the magnetic field simplifies."
   ]
  },
  {
   "cell_type": "markdown",
   "id": "83ca7cdf-e3a1-4bf0-ad46-1882ebc36786",
   "metadata": {},
   "source": [
    "![title](magnetic_reconnection.png)"
   ]
  },
  {
   "cell_type": "markdown",
   "id": "fe4c501f-5471-4ef2-aaf1-a3743c6c66a0",
   "metadata": {},
   "source": [
    "## Geostationary Operational Environmental Satellites (GOES)"
   ]
  },
  {
   "cell_type": "markdown",
   "id": "fe5093f4-e160-4e4c-9018-e541a2efebb1",
   "metadata": {},
   "source": [
    "Since 1975, the Geostationary Operational Environmental Satellites (GOES) have provided continuous imagery and data on atmospheric conditions and solar activity (space weather). They have even aided in the search and rescue of people in distress. GOES data products have enabled more accurate and timely weather forecasts and a better understanding of long-term climate conditions. GOES is a collaborative National Oceanic and Atmospheric Administration (NOAA) and NASA program where NASA builds and launches the satellites and NOAA operates them."
   ]
  },
  {
   "cell_type": "markdown",
   "id": "903abb93-b515-46cc-a782-b306c6f64a3b",
   "metadata": {},
   "source": [
    "Over the years there have been 18 GOES satellites launched with three currently in operation. Since March 2020, GOES 15 is no longer taking data and GOES 16 and 17 have taken over with GOES 18 launched in March 2022. These three are part of the GOES-R series and provide XRS data at a better time resolution of one second."
   ]
  },
  {
   "cell_type": "markdown",
   "id": "2eaeadc5-8066-4fa1-9cfb-cde8a7832977",
   "metadata": {},
   "source": [
    "![title](GOES.png)"
   ]
  },
  {
   "cell_type": "markdown",
   "id": "47428a49-4949-47f2-9bac-7a198a85d8d4",
   "metadata": {},
   "source": [
    "Large solar flares can change the Earth’s ionosphere, which blocks high-frequency radio transmissions on the sunlit side of the Earth. These events are also associated with Coronal Mass Ejections (CMEs), which can ultimately lead to geomagnetic storms. Some large solar flares are accompanied by strong radio bursts that may interfere with other radio frequencies and cause problems for satellite communication and radio navigation (GPS). "
   ]
  },
  {
   "cell_type": "markdown",
   "id": "baa57685-c32c-452c-8050-7dde5a2f6bd1",
   "metadata": {},
   "source": [
    "Therefore, GOES uses its onboard X-Ray Sensors (XRS) to take measurements of solar X-rays in the 1-8 Å (long or xrsb channel) and 0.5-4.0 Å (short or xrsa channel) passbands, which are plotted (see example below) and used to track solar activity and solar flares. They then use these measurements to determine the strength of solar flare events, where thresholds (also called indices) are used by solar physicists to classify them. Flare indices are denoted by a letter and a number based on the log10 peak irradiance of the flare:\n",
    "\n",
    "- X: 10<sup>-4</sup> W m-2\n",
    "- M: 10<sup>-5</sup> W m-2\n",
    "- C: 10<sup>-6</sup> W m-2\n",
    "- B: 10<sup>-7</sup> W m-2\n",
    "- A: 10<sup>-8</sup> W m-2\n",
    "\n",
    "For example, an M5 index is defined for a 5x10-5 W m-2 peak irradiance, and an X2.5 index is defined as an irradiance level of 2.5x10-4 W m-2 peak irradiance. The flare index is defined by the truncated (not rounded) irradiance; e.g., a flare with peak irradiance of 4.19x10-5 Wm-2 is an M4.1 flare, not an M4.2 flare. The Space Weather Prediction Centre at NOAA sends out space weather alerts when flares at the M5 level or above are detected. \n",
    "\n",
    "Real-time data from GOES data can be found at this __[link](https://www.swpc.noaa.gov/products/goes-x-ray-flux)__."
   ]
  },
  {
   "cell_type": "markdown",
   "id": "1271d018-5180-4dc5-b32b-9310078b02bf",
   "metadata": {},
   "source": [
    "![title](goes-x-ray-flux-1-minute.png)"
   ]
  },
  {
   "cell_type": "markdown",
   "id": "9651ddb2-28c5-41f6-b9ae-922ab05cf1b3",
   "metadata": {},
   "source": [
    "***"
   ]
  },
  {
   "cell_type": "markdown",
   "id": "3e8b2cd0-7b27-497a-a414-1b1d17f03bd4",
   "metadata": {},
   "source": [
    "### Accessing GOES data using sunpy"
   ]
  },
  {
   "cell_type": "markdown",
   "id": "e5e73069-e4ff-42f7-a5a9-cc236108ee71",
   "metadata": {},
   "source": [
    "Let's first add all the Python packages that we will need."
   ]
  },
  {
   "cell_type": "code",
   "execution_count": 82,
   "id": "df0e8d63-fb79-4afa-aaeb-accea29cd90c",
   "metadata": {},
   "outputs": [],
   "source": [
    "# some basic packages\n",
    "import os\n",
    "import sys\n",
    "import fnmatch\n",
    "import numpy as np\n",
    "import pandas as pd\n",
    "\n",
    "# solar physics package\n",
    "import sunpy\n",
    "\n",
    "# importing plotting packages\n",
    "import matplotlib.pyplot as plt\n",
    "from matplotlib import dates\n",
    "\n",
    "# setting text size for plots\n",
    "import matplotlib as mpl\n",
    "mpl.rcParams['xtick.labelsize'] = 12\n",
    "mpl.rcParams['ytick.labelsize'] = 12\n",
    "mpl.rcParams['axes.titlesize'] = 12\n",
    "mpl.rcParams['axes.labelsize'] = 12\n",
    "\n",
    "# importing widgets for interactive plots\n",
    "from ipywidgets import *"
   ]
  },
  {
   "cell_type": "markdown",
   "id": "64b9397c-8fa4-486b-9159-b98491d27190",
   "metadata": {},
   "source": [
    "For this session, we will be focusing on using sunpy.timeseries to create plots of GOES X-ray data, so we need to import the packages here. \n",
    "\n",
    "**Note:** if you have any errors with this, then ask a demonstrator, as you need to have all sunpy packages and their dependencies installed. "
   ]
  },
  {
   "cell_type": "code",
   "execution_count": 83,
   "id": "1ab292a7-eb52-4a24-9984-7dbdb311a95c",
   "metadata": {},
   "outputs": [],
   "source": [
    "# and some sub packages from sunpy and astropy\n",
    "from sunpy import timeseries as ts\n",
    "from sunpy.time import parse_time\n",
    "from astropy import units as u"
   ]
  },
  {
   "cell_type": "markdown",
   "id": "1e3acc3e-5eb6-4594-a6b1-be82e997ea11",
   "metadata": {},
   "source": [
    "There are three ways to access GOES solar time series data.\n",
    "\n",
    "1. Using __[GOES XRS Near Real Time data]( https://services.swpc.noaa.gov/json/goes/primary/)__, which includes the GOES XRS timeseries data as well as the flare times.\n",
    "2. Accessing the __[Heliophysics Events Knowledgebase (HEK)](https://www.lmsal.com/hek/index.html)__ catalogue to retreive a list of all solar flare events. \n",
    "3. Retrieve the GOES XRS data using __[Fido](https://docs.sunpy.org/en/stable/generated/api/sunpy.net.Fido.html#sunpy.net.Fido)__, which we used earlier for downloading SDO data. "
   ]
  },
  {
   "cell_type": "markdown",
   "id": "d926afa7-7b8e-4ea2-9645-d4a915b10076",
   "metadata": {},
   "source": [
    "### Examples\n",
    "### 1. Accessing GOES Near Real Time Data"
   ]
  },
  {
   "cell_type": "markdown",
   "id": "6da93808-b62a-47c4-84d5-67e5231b790f",
   "metadata": {},
   "source": [
    "The GOES Near Real Time data is accessed using pandas.read_json(). This allows us to download the file and load it directly into a pandas.DataFrame. This file updates every minute and contains the last 7 days worth of data. However, there is a little bit of work to do to get the data into a format which the sunpy.timeseries will accept. "
   ]
  },
  {
   "cell_type": "markdown",
   "id": "aad1c94a-c30d-4157-ac7c-fd06066acbf2",
   "metadata": {},
   "source": [
    "\n",
    "Download the data:\n",
    ">`goes_data = pd.read_json(\"https://services.swpc.noaa.gov/json/goes/primary/xrays-7-day.json\")`\n",
    "\n",
    "The flux values vary between the two channels, so we need to rearrange them into two columns using a pivot table:\n",
    ">`goes_data = goes_data.pivot(index='time_tag', columns='energy', values='observed_flux')`\n",
    ">\n",
    "> `goes_data.rename(columns={'0.05-0.4nm': 'xrsa', '0.1-0.8nm': 'xrsb'}, inplace=True)'`\n",
    "\n",
    "To make a sunpy.timeseries we need a datetime index, which we can get by parsing the time strings:\n",
    "> `goes_data.index = parse_time(list(goes_data.index)).datetime`\n",
    "\n",
    "We also need to have units for each of the flux columns, so we will create a dictionary and map each column to units of \n",
    "> `units = dict([(\"xrsa\", u.W / u.m ** 2), (\"xrsb\", u.W / u.m ** 2)])`\n",
    "\n",
    "We also need to create a metadata dictionary for the data:\n",
    "> `meta = dict({\"instrument\": \"GOES X-ray sensor\", \"measurements\": \"primary\", \"type\": \"quicklook\"})`\n",
    "\n",
    "Now we can create a sunpy.timeseries.TimeSeries by passing in the data, metadata and units:\n",
    "> `goes_ts = ts.TimeSeries(goes_data, meta, units, source=\"xrs\")`\n",
    "\n",
    "\n",
    "NOAA also provides the past 7 days of flare event identifications, which we can also download:\n",
    "\n",
    "> `flare_events = pd.read_json(\"https://services.swpc.noaa.gov/json/goes/primary/xray-flares-7-day.json\")`"
   ]
  },
  {
   "cell_type": "markdown",
   "id": "791d9eb8-4481-43f3-a361-b0f835926769",
   "metadata": {},
   "source": [
    "## Task III-1\n",
    "- Using the example above, download and plot the past 7 days of GOES Near Real Time data.\n",
    "- In your plot, by eye, identify the largest peaks as potential flare events.\n",
    "- Download the flare event identifications list and identify the five largest flares in the past seven days.\n",
    "- Overplot the five largest flares onto the GOES timeseries. Does this match what you had previously identified by eye?"
   ]
  },
  {
   "cell_type": "code",
   "execution_count": null,
   "id": "116e77d8-1502-471d-8d90-6d355a538eee",
   "metadata": {},
   "outputs": [],
   "source": []
  },
  {
   "cell_type": "markdown",
   "id": "4581430f-4283-45d0-bebb-6871c2722a40",
   "metadata": {},
   "source": [
    "### 2. Accessing GOES flare event list"
   ]
  },
  {
   "cell_type": "markdown",
   "id": "41995e9e-0a5f-4127-b11e-6eb695d9c7e6",
   "metadata": {},
   "source": [
    "First lets import the Fido package within sunpy we will need."
   ]
  },
  {
   "cell_type": "code",
   "execution_count": 88,
   "id": "7059e57e-6cd2-4b24-aec0-f7f3b232e2b0",
   "metadata": {},
   "outputs": [],
   "source": [
    "from sunpy.net import Fido\n",
    "from sunpy.net import attrs as a"
   ]
  },
  {
   "cell_type": "markdown",
   "id": "dcdb5f25-efeb-469d-9ac1-a2682be8ca96",
   "metadata": {},
   "source": [
    "We use Fido to query the __[Heliophysics Events Knowledgebase (HEK)](https://www.lmsal.com/hek/index.html)__ catalogue. We define our event type as a flare (“FL”). We also set up the start and end times over which we will search for flare events. We want a list of events that were detected by GOES between tstart and tend and have a class > M1.0."
   ]
  },
  {
   "cell_type": "markdown",
   "id": "b4ef8818-e144-4d18-825b-01ee68dfd164",
   "metadata": {},
   "source": [
    ">```\n",
    ">event_type = \"FL\"\n",
    ">tstart = \"2013/10/28\"\n",
    ">tend = \"2013/10/29\"\n",
    ">result = Fido.search(a.Time(tstart, tend),\n",
    ">                     a.hek.EventType(event_type),\n",
    ">                     a.hek.FL.GOESCls > \"M1.0\",\n",
    ">                     a.hek.OBS.Observatory == \"GOES\")\n",
    ">```\n",
    "\n",
    "The result is returned as a UnifiedResponse, from which we can see a table from one provider is found and returned.\n",
    "\n",
    "Using this, we only show two columns due there being over 100 columns returned normally.\n",
    "\n",
    ">`print(result.show(\"hpc_bbox\", \"refs\"))`\n",
    "\n",
    "It is also possible to access the HEK results from the `~sunpy.net.fido_factory.UnifiedResponse` by name.\n",
    "\n",
    ">`hek_results = result[\"hek\"]`"
   ]
  },
  {
   "cell_type": "markdown",
   "id": "c0c8a0ea-df0b-4783-9bd9-4f1b71bd2807",
   "metadata": {},
   "source": [
    "The results returned contain a lot of information, and we may only want to keep some main results, such as start time, end time, peak time, GOES-class, and active region number. "
   ]
  },
  {
   "cell_type": "markdown",
   "id": "13a33a50-aaaf-48ad-a284-2e3d4901f8cb",
   "metadata": {},
   "source": [
    "## Task III-2\n",
    "- Using Example 2 above, create an up-to-date list of all GOES solar flare events from the past month.\n",
    "- Filter these results to show key flare properties such as start time, end time, peak time, GOES-class, and active region number.\n",
    "- Convert the GOES-class to flare energy and sort the flare list from strongest to weakest. "
   ]
  },
  {
   "cell_type": "code",
   "execution_count": null,
   "id": "f531fcc2-8c44-4bbd-8836-917381d48e2d",
   "metadata": {},
   "outputs": [],
   "source": []
  },
  {
   "cell_type": "markdown",
   "id": "0e61a756-e28d-403a-8823-ac027ddeb656",
   "metadata": {},
   "source": [
    "<div class=\"alert alert-block alert-warning\">\n",
    "<b>CHECKPOINT 1:</b> Find a demonstrator and show them your GOES plot and flare list before progressing to the next task.\n",
    "</div>"
   ]
  },
  {
   "cell_type": "markdown",
   "id": "ac5c5f42-a9f8-459d-b655-f94b8ff14bf7",
   "metadata": {},
   "source": [
    "### 3. Accessing GOES data using Fido"
   ]
  },
  {
   "cell_type": "markdown",
   "id": "bf6bf649-476a-4ac7-ad15-a7e3764346d6",
   "metadata": {},
   "source": [
    "First lets import the Fido package within sunpy we will need."
   ]
  },
  {
   "cell_type": "code",
   "execution_count": 92,
   "id": "f8e2a263-962c-4aa3-9a7e-f97b35eccb17",
   "metadata": {},
   "outputs": [],
   "source": [
    "from sunpy.net import Fido\n",
    "from sunpy.net import attrs as a"
   ]
  },
  {
   "cell_type": "markdown",
   "id": "78525eac-e871-4cdb-ae05-ff90211b6367",
   "metadata": {},
   "source": [
    "A quick reminder, when searching for data with Fido, you need to specify attributes to search with (similar to what we did with SDO data in the previous session). We will use the following for GOES data:\n",
    "\n",
    "- use a.Time to specify the data and time in the format 'yyyy/mm/dd hh:mm:ss'\n",
    "\n",
    "> `e.g. a.Time('2025/10/01 00:00:15', '2025/10/01 00:00:30')`\n",
    "\n",
    "- use the a.Instrument to specify which instrument you would like (i.e. XRS for GOES data)\n",
    "\n",
    "> `e.g. a.Instrument(\"AIA\")`\n",
    "\n",
    "For example, we define our start and end times and query the XRS database using Fido as follows. "
   ]
  },
  {
   "cell_type": "code",
   "execution_count": 93,
   "id": "456bea55-caf6-4006-9c07-84224c59fabd",
   "metadata": {},
   "outputs": [
    {
     "name": "stdout",
     "output_type": "stream",
     "text": [
      "Results from 1 Provider:\n",
      "\n",
      "6 Results from the XRSClient:\n",
      "Source: <8: https://umbra.nascom.nasa.gov/goes/fits \n",
      "8-15: https://www.ncei.noaa.gov/data/goes-space-environment-monitor/access/science/ \n",
      "16-17: https://data.ngdc.noaa.gov/platforms/solar-space-observing-satellites/goes/\n",
      "\n",
      "       Start Time               End Time        Instrument  Physobs   Source Provider Resolution SatelliteNumber filename_res\n",
      "----------------------- ----------------------- ---------- ---------- ------ -------- ---------- --------------- ------------\n",
      "2015-06-21 00:00:00.000 2015-06-21 23:59:59.999        XRS irradiance   GOES     NOAA      irrad              13         gxrs\n",
      "2015-06-21 00:00:00.000 2015-06-21 23:59:59.999        XRS irradiance   GOES     NOAA      avg1m              13         xrsf\n",
      "2015-06-21 00:00:00.000 2015-06-21 23:59:59.999        XRS irradiance   GOES     NOAA      irrad              14         gxrs\n",
      "2015-06-21 00:00:00.000 2015-06-21 23:59:59.999        XRS irradiance   GOES     NOAA      avg1m              14         xrsf\n",
      "2015-06-21 00:00:00.000 2015-06-21 23:59:59.999        XRS irradiance   GOES     NOAA      irrad              15         gxrs\n",
      "2015-06-21 00:00:00.000 2015-06-21 23:59:59.999        XRS irradiance   GOES     NOAA      avg1m              15         xrsf\n",
      "\n",
      "\n"
     ]
    }
   ],
   "source": [
    "tstart = \"2015-06-21 01:00\"\n",
    "tend = \"2015-06-21 23:00\"\n",
    "result = Fido.search(a.Time(tstart, tend), a.Instrument(\"XRS\"))\n",
    "print(result)"
   ]
  },
  {
   "cell_type": "markdown",
   "id": "274f3d64-7e72-41a1-aa87-c89c53bae907",
   "metadata": {},
   "source": [
    "This returns six results, two files for each of GOES 13, GOES 14 and GOES 15, which can be identified by the `SatelliteNumber` column. The GOES data provided can either be high-cadence (1s/2s/3s based on GOES satellite) or averaged over 1 minute. This can be noted in the Resolution column, where the `avg1m` and `flx1s` attributes are the 1 minute average and the high-cadence data, respectively. \n",
    "\n",
    "However, we only want one of these files for our analysis, so we filter our query further using the following attributes:\n",
    "\n",
    "- use a.goes.SatelliteNumber to specify what GOES satellite number you want to use (see notes at beginning)\n",
    "> `e.g a.goes.SatelliteNumber(15)`\n",
    "\n",
    "- use a.Resolution to specify the resolution (or cadence) of the observations (see notes at beginning)\n",
    "> `e.g a.Resolution(\"flx1s\")`\n",
    "\n",
    "We can now refine our Fido query to specify the GOES-15 satellite and use the high-cadence observations."
   ]
  },
  {
   "cell_type": "code",
   "execution_count": 94,
   "id": "06c399dd-4fbf-4293-9149-13abdbdf1eb9",
   "metadata": {},
   "outputs": [
    {
     "name": "stdout",
     "output_type": "stream",
     "text": [
      "Results from 1 Provider:\n",
      "\n",
      "1 Results from the XRSClient:\n",
      "Source: <8: https://umbra.nascom.nasa.gov/goes/fits \n",
      "8-15: https://www.ncei.noaa.gov/data/goes-space-environment-monitor/access/science/ \n",
      "16-17: https://data.ngdc.noaa.gov/platforms/solar-space-observing-satellites/goes/\n",
      "\n",
      "       Start Time               End Time        Instrument  Physobs   Source Provider Resolution SatelliteNumber filename_res\n",
      "----------------------- ----------------------- ---------- ---------- ------ -------- ---------- --------------- ------------\n",
      "2015-06-21 00:00:00.000 2015-06-21 23:59:59.999        XRS irradiance   GOES     NOAA      irrad              15         gxrs\n",
      "\n",
      "\n"
     ]
    }
   ],
   "source": [
    "result_goes15 = Fido.search(a.Time(tstart, tend), a.Instrument(\"XRS\"), a.goes.SatelliteNumber(15), a.Resolution(\"flx1s\"))\n",
    "print(result_goes15)"
   ]
  },
  {
   "cell_type": "markdown",
   "id": "c39c52be-9d68-4bfc-810c-1dd50a8eec63",
   "metadata": {},
   "source": [
    "Now download this data using fetch."
   ]
  },
  {
   "cell_type": "code",
   "execution_count": 95,
   "id": "4c7d74ae-c37f-484d-b584-8bee64057914",
   "metadata": {},
   "outputs": [
    {
     "data": {
      "application/vnd.jupyter.widget-view+json": {
       "model_id": "7cb3fd9444db475f98687ef76207273d",
       "version_major": 2,
       "version_minor": 0
      },
      "text/plain": [
       "Files Downloaded:   0%|          | 0/1 [00:00<?, ?file/s]"
      ]
     },
     "metadata": {},
     "output_type": "display_data"
    }
   ],
   "source": [
    "file_goes15 = Fido.fetch(result_goes15, path='/Users/u1973287/OneDrive - University of Warwick/Outreach/ThaiPASS/data/III_data/{file}')"
   ]
  },
  {
   "cell_type": "markdown",
   "id": "d9e416d5-cd70-4550-890a-bec9c53e8031",
   "metadata": {},
   "source": [
    "Now let's load this data into a TimeSeries, and inspect the data using peek()."
   ]
  },
  {
   "cell_type": "code",
   "execution_count": 96,
   "id": "f7376bd3-4f71-4fb8-9e50-df091c8e41dc",
   "metadata": {},
   "outputs": [
    {
     "data": {
      "image/png": "[encoded data removed]",
      "text/plain": [
       "<Figure size 640x480 with 1 Axes>"
      ]
     },
     "metadata": {},
     "output_type": "display_data"
    }
   ],
   "source": [
    "goes_15 = ts.TimeSeries(file_goes15)\n",
    "goes_15.peek()"
   ]
  },
  {
   "cell_type": "markdown",
   "id": "7030d4bc-a51a-445e-93fe-ca720ee306f5",
   "metadata": {},
   "source": [
    "GOES quality flags can be used to filter GOES data. These tell us about the quality of the data and remove any data points which may have instrumental issues with pointing or calibration."
   ]
  },
  {
   "cell_type": "code",
   "execution_count": 97,
   "id": "d4595a90-4b4e-43dc-a57f-2625e734cc20",
   "metadata": {},
   "outputs": [],
   "source": [
    "df = goes_15.to_dataframe()\n",
    "df = df[(df[\"xrsa_quality\"] == 0) & (df[\"xrsb_quality\"] == 0)]\n",
    "goes_15 = ts.TimeSeries(df, goes_15.meta, goes_15.units)"
   ]
  },
  {
   "cell_type": "markdown",
   "id": "7d4ef4b4-3f7f-4875-8d4a-a7de02ca751d",
   "metadata": {},
   "source": [
    "We can also pull out the individual GOES channels and plot them separately."
   ]
  },
  {
   "cell_type": "code",
   "execution_count": 98,
   "id": "356d1296-23b1-4fd3-be26-368a850646f5",
   "metadata": {},
   "outputs": [
    {
     "data": {
      "image/png": "[encoded data removed]",
      "text/plain": [
       "<Figure size 640x480 with 1 Axes>"
      ]
     },
     "metadata": {},
     "output_type": "display_data"
    }
   ],
   "source": [
    "fig, ax = plt.subplots()\n",
    "goes_15.plot(axes=ax, columns=[\"xrsb\"])\n",
    "plt.show()"
   ]
  },
  {
   "cell_type": "markdown",
   "id": "cbd5ed5b-fd75-42df-a894-631dcfe521d9",
   "metadata": {},
   "source": [
    "## Task III-3\n",
    "Using the GOES flare list created in the previous task:\n",
    "- Identify **three** solar flare events and plot their corresponding GOES light curve in the 1-8 Å channel, accessing the data using Fido. (**Tip:** you may want to plot ones of varying magnitude, i.e. X, M and C.)\n",
    "- On each plot, add vertical dashed lines with the flare start, end and peak time. "
   ]
  },
  {
   "cell_type": "code",
   "execution_count": null,
   "id": "eddc80e9-d330-4797-a930-ac72d4a319d1",
   "metadata": {},
   "outputs": [],
   "source": []
  },
  {
   "cell_type": "code",
   "execution_count": null,
   "id": "fd96f6b9-a83f-439b-a9a2-a4b9b800dea5",
   "metadata": {},
   "outputs": [],
   "source": []
  },
  {
   "cell_type": "code",
   "execution_count": null,
   "id": "15f99287-cd27-4da5-8034-21b7dfd10d85",
   "metadata": {},
   "outputs": [],
   "source": []
  },
  {
   "cell_type": "markdown",
   "id": "08ca6417-6842-4547-9756-c7686cf35b5f",
   "metadata": {},
   "source": [
    "<div class=\"alert alert-block alert-warning\">\n",
    "<b>CHECKPOINT 2:</b> Find a demonstrator and show them your GOES light curves before progressing to the next task.\n",
    "</div>"
   ]
  },
  {
   "cell_type": "markdown",
   "id": "a2fc7df0-0d4b-47c5-8b46-cf00d4617652",
   "metadata": {},
   "source": [
    "***"
   ]
  },
  {
   "cell_type": "markdown",
   "id": "df9380e7-5ded-4f81-a618-ec76e9485731",
   "metadata": {},
   "source": [
    "## Extreme ultraviolet Variability Experiment (EVE)"
   ]
  },
  {
   "cell_type": "markdown",
   "id": "9725cf9a-cb65-4474-b795-33ab90d2bc6d",
   "metadata": {},
   "source": [
    "The Extreme ultraviolet Variability Experiment (EVE) is the third instrument on board the Solar Dynamics Observatory (SDO). EVE records the Sun’s extreme ultraviolet (EUV) radiation — light with very short wavelengths (roughly 0.1 to 105 nm) that we cannot see with our eyes. EUV radiation comes from the Sun’s hot upper atmosphere (the corona) and changes quickly during solar flares and other magnetic activity. Even small changes in EUV output can strongly affect Earth’s upper atmosphere, ionosphere, and satellite communications.\n",
    "\n",
    "What makes EVE special:\n",
    "- It takes measurements every 10 seconds, so it can follow rapid solar events in detail.\n",
    "- It provides a full EUV spectrum — allowing scientists to study how different layers of the solar atmosphere respond during flares.\n",
    "- Its continuous, high-cadence data set is one of the most complete records of solar EUV variability we have.\n",
    "\n",
    "By using EVE data, you can directly see how solar flares brighten the EUV spectrum and compare this behaviour with soft X-ray data from the GOES satellites. This helps build a picture of how solar activity is detected across different wavelengths."
   ]
  },
  {
   "cell_type": "markdown",
   "id": "ca00101a-1e44-4e33-a25a-d0fd4daebacb",
   "metadata": {},
   "source": [
    "### Accessing EVE data using SunPy"
   ]
  },
  {
   "cell_type": "markdown",
   "id": "dc52ae8e-019d-487f-ad37-70c9f38433f9",
   "metadata": {},
   "source": [
    "This is done using Fido, same as above for GOES data, but the instrument should be changed to `a.Instrument(\"EVE\")`. We also want to focus on the level 1 data, which can be filtered using the `a.Level.one` attribute. \n",
    "\n",
    "In the EVE/ESP broadband Level-1 data product:\n",
    "- –1 values are fill values inserted whenever the instrument has no valid measurement (e.g. during eclipses, spacecraft manoeuvers, or bad packets).\n",
    "- They aren’t real negative irradiances — they’re just placeholders that mean “ignore this data point”.\n",
    "\n",
    "Therefore, we need to clean these out. You can use the `df = ts.to_dataframe()` command to convert the timeseries to a Pandas dataframe, filter the data to remove all -1 values and convert to nan, then put it back into a timeseries.\n"
   ]
  },
  {
   "cell_type": "markdown",
   "id": "8473398f-b558-4179-bd85-6cc361594492",
   "metadata": {},
   "source": [
    "## Task III-4\n",
    "- For the three identified flares in Task III-3, download the corresponding EVE data, clean it, then place it into a timeseries the create a plot. "
   ]
  },
  {
   "cell_type": "code",
   "execution_count": null,
   "id": "0bda490f-7043-4e8d-8b6c-53cfc4900e2b",
   "metadata": {},
   "outputs": [],
   "source": []
  },
  {
   "cell_type": "code",
   "execution_count": null,
   "id": "2a3329a3-a4ae-4e0c-9938-82ba24fa8cd6",
   "metadata": {},
   "outputs": [],
   "source": []
  },
  {
   "cell_type": "code",
   "execution_count": null,
   "id": "214115af-5fb0-43ba-b623-2f4968fda32d",
   "metadata": {},
   "outputs": [],
   "source": []
  },
  {
   "cell_type": "markdown",
   "id": "9f6a2c63-f4be-48f2-b8e5-7e1886068220",
   "metadata": {},
   "source": [
    "When looking at your plots, you will notice there is data present from different channels. The Extreme ultraviolet Spectro-Photometer (ESP) is an irradiance instrument which is part of EVE on board SDO. ESP provides high time cadence (0.25s) EUV irradiance measurements in five channels, one soft X-ray and 4 EUV as follows:\n",
    "- ‘QD’ - sum of 4 quad diodes, this is the soft X-ray measurements 0.1-7nm\n",
    "- ‘CH_18’ - EUV irradiance 18nm\n",
    "- ‘CH_26’ - EUV irradiance 26nm\n",
    "- ‘CH_30’ - EUV irradiance 30nm\n",
    "- ‘CH_36’ - EUV irradiance 36nm\n",
    "\n",
    "Each channel is stored as a separate column. Column names may vary; therefore, we can list them within the EVE timeseries for inspection using: \n",
    "\n",
    ">`eve_cols = [c for c in eve_ts.columns if isinstance(c, str)]`"
   ]
  },
  {
   "cell_type": "markdown",
   "id": "8e5e8265-5179-4d6a-9af7-a2d6ce221f03",
   "metadata": {},
   "source": [
    "## Task III-5\n",
    "- For one of the flare events, plot each of the EVE ESP channels in a separate subplot so they can be seen more clearly.\n",
    "- Make sure there are axis labels and a title.\n",
    "\n",
    "**Tip:** you can use timeseries or a dataframe"
   ]
  },
  {
   "cell_type": "code",
   "execution_count": null,
   "id": "dc823a6a-3ec6-4180-b370-b935a4441a26",
   "metadata": {},
   "outputs": [],
   "source": []
  },
  {
   "cell_type": "markdown",
   "id": "36cc759e-7fae-4165-8173-8b664adab116",
   "metadata": {},
   "source": [
    "<div class=\"alert alert-block alert-warning\">\n",
    "<b>CHECKPOINT 3:</b> Find a demonstrator and show them your EVE light curves before progressing to the next task.\n",
    "</div>"
   ]
  },
  {
   "cell_type": "markdown",
   "id": "0769f6d3-6064-4b25-9c92-cce027a16da9",
   "metadata": {},
   "source": [
    "### Comparing GOES and EVE solar flare light curves"
   ]
  },
  {
   "cell_type": "markdown",
   "id": "b8755ab3-4330-4cc7-bc08-4ba4ac3fa41f",
   "metadata": {},
   "source": [
    "The example code below normalises the GOES and EVE timeseries so they can be easily plotted together on one plot. "
   ]
  },
  {
   "cell_type": "code",
   "execution_count": null,
   "id": "c9bc628b-8b44-4cc8-b4fc-601f529e7d10",
   "metadata": {},
   "outputs": [],
   "source": [
    "def normalize(s):\n",
    "    # function to normalise data.\n",
    "    arr = np.array(s, dtype=float)\n",
    "    return (arr - np.nanmin(arr)) / (np.nanmax(arr) - np.nanmin(arr) + 1e-15)"
   ]
  },
  {
   "cell_type": "markdown",
   "id": "6cb21386-8bdb-4b01-a4d1-b3a1e28f3a1b",
   "metadata": {},
   "source": [
    "## Task III-6\n",
    "- Select one solar flare event and create a GOES and EVE light curve comparisson plot. "
   ]
  },
  {
   "cell_type": "code",
   "execution_count": null,
   "id": "fa582ed2-181d-4e6c-865c-434a8609d2a0",
   "metadata": {},
   "outputs": [],
   "source": []
  },
  {
   "cell_type": "markdown",
   "id": "3bb60b51-6424-4369-9abd-4a9ad94e5b95",
   "metadata": {},
   "source": [
    "## Task III-7\n",
    "- Does EVE peak earlier or later than GOES? What might that suggest about flare heating and emission at different wavelengths?\n",
    "- How does the shape of the EVE curve compare to GOES (sharper rise, slower decay)?"
   ]
  },
  {
   "cell_type": "code",
   "execution_count": null,
   "id": "46dbceee-755e-46e4-b631-cf4fcf894a92",
   "metadata": {},
   "outputs": [],
   "source": []
  },
  {
   "cell_type": "markdown",
   "id": "eb4d69c0-8223-40f7-bc0c-da71f45cd4ab",
   "metadata": {},
   "source": [
    "<div class=\"alert alert-block alert-warning\">\n",
    "<b>CHECKPOINT 4:</b> Find a demonstrator and discuss your GOES/EVE comparisson with them. \n",
    "</div>"
   ]
  }
 ],
 "metadata": {
  "kernelspec": {
   "display_name": "Python 3 (ipykernel)",
   "language": "python",
   "name": "python3"
  },
  "language_info": {
   "codemirror_mode": {
    "name": "ipython",
    "version": 3
   },
   "file_extension": ".py",
   "mimetype": "text/x-python",
   "name": "python",
   "nbconvert_exporter": "python",
   "pygments_lexer": "ipython3",
   "version": "3.13.5"
  }
 },
 "nbformat": 4,
 "nbformat_minor": 5
}

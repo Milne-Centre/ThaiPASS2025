{
 "cells": [
  {
   "cell_type": "markdown",
   "metadata": {},
   "source": [
    "# EXOPLANETS I (Pre-ThaiPass Exercise): Solar System & Exoplanets\n",
    "\n",
    "In this exercise you will learn about the motions of the planets around the Sun or other stars and produce graphs using Kepler's 3rd law. You will learn about using python functions, defining arrays, making simple plots and customising them.\n",
    "\n",
    "**You will need the following python packages: numpy and matplotlib. Don't forget to import them:**\n",
    "\n",
    "**import numpy as np**\n",
    "\n",
    "**import matplotlib.pyplot as plt**\n",
    "\n",
    "\n",
    "## Kepler's laws of planetary motion\n",
    "\n",
    "These describe the motions of the planets in the Solar System. They were formulated by Kepler in the 1600's (see Wikipedia article)\n",
    "\n",
    "Kepler's 3rd law connects the period of a planet with the distance from its star.\n",
    "\n",
    "### $P^2=\\frac{4\\pi^2 a^3}{GM}$\n",
    "\n",
    "where P is the period of the planet (how much time it takes to do one rotation around the star), G is the universal gravitational constant, M is the mass of the host star and a is the semi-major axis of the planet orbit (i.e. the distance from the star for a circular orbit). In our System we set $M=1M_\\odot$ (the mass of the Sun). The symbol we use for the Sun is $\\odot$.\n",
    "\n",
    "If we apply the above equation for the Earth (the symbol we use for Earth is $\\oplus$) we obtain:\n",
    "\n",
    "### $P_\\oplus^2=\\frac{4\\pi^2 a_\\oplus^3}{GM_\\odot}$\n",
    "\n",
    "In the general case of a planet around a star with mass $M_\\star$, we have \n",
    "\n",
    "### $P^2=\\frac{4\\pi^2 a^3}{GM\\star}$\n",
    "\n",
    "Dividing by parts the previous two equations we get:\n",
    "\n",
    "### $\\left(\\frac{P}{P_\\oplus}\\right)^2=\\left(\\frac{a}{a_\\oplus}\\right)^3 \\left(\\frac{M_\\star}{M_\\odot}\\right)^{-1}$\n",
    "\n",
    "However $a_\\oplus$=1 AU (where AU is the astronomical unit, i.e. the distance between Earth and Sun) and $P=1 $yr (year). Therefore, the above  equation can be written in the simple form by **using years as the time unit, AU the distance unit and $M_\\odot$ the mass unit**:\n",
    "\n",
    "### $P^2=a^3/M_\\star$. \n",
    "\n",
    "This equation can be used to determine the distance of a planet from its host star if we can determine its period. Use this equation for the tasks below, being careful to use the right units.\n",
    "\n",
    "Note that the mass of the planet does appear in the above equation which means that if a more massive planet (e.g. Jupiter) was on Earth's orbit it would have the same period (i.e. rotate around the Sun with the same speed as Earth)."
   ]
  },
  {
   "cell_type": "markdown",
   "metadata": {},
   "source": [
    "## Task I-1\n",
    "\n",
    "Define a function (**def function_mame(input parameters)**) that returns the distance of a planet from its host star  when you input the planet's period $P$ and the mass $M$ of the star (input units should be years and AU; output units AU). Don't forget to import the relevant packages (numpy). Use this function to find and output the distance between the Earth and the Sun, and the distance between the Jupiter and the Sun (note that the period of Jupiter is 12 yr). [Learn about python functions]"
   ]
  },
  {
   "cell_type": "code",
   "execution_count": 1,
   "metadata": {},
   "outputs": [],
   "source": [
    "#write your code here\n",
    "\n",
    "\n"
   ]
  },
  {
   "cell_type": "markdown",
   "metadata": {},
   "source": [
    "## Task I-2\n",
    "\n",
    "Use this function to make a numpy array that has the semi major axis of planets with orbital periods between 0.1 and 5 years (every 0.1 yr) (hint: use the numpy **arange** function) for stars between 0.1 and 2 times the mass of the Sun (for 5 values between 0.1 and 2) (hint: use the numpy **linspace** function).  "
   ]
  },
  {
   "cell_type": "code",
   "execution_count": 2,
   "metadata": {},
   "outputs": [],
   "source": [
    "#write your code here\n"
   ]
  },
  {
   "cell_type": "markdown",
   "metadata": {},
   "source": [
    "## Task I-3\n",
    "Plot the semi-major axis versus the period of the planet for each of the five stars (five lines). Label your axes (use **plt.xlabel**, **plt.ylabel**), give a title to the plot (use **plt.title**), use different colour lines for each stellar mass, and put a legend on the graph (**plt.legend**). Don't forget to import matplotlib.pyplot. [Learn about python graphs]"
   ]
  },
  {
   "cell_type": "code",
   "execution_count": 3,
   "metadata": {},
   "outputs": [],
   "source": [
    "#write your code here\n"
   ]
  }
 ],
 "metadata": {
  "kernelspec": {
   "display_name": "Python 3",
   "language": "python",
   "name": "python3"
  },
  "language_info": {
   "codemirror_mode": {
    "name": "ipython",
    "version": 3
   },
   "file_extension": ".py",
   "mimetype": "text/x-python",
   "name": "python",
   "nbconvert_exporter": "python",
   "pygments_lexer": "ipython3",
   "version": "3.13.2"
  },
  "metadata": {
   "interpreter": {
    "hash": "d7f94b8b1e41b02170d45ac71ce2d6b011e7cd56207b4c480f5292088bcfab93"
   }
  },
  "orig_nbformat": 2
 },
 "nbformat": 4,
 "nbformat_minor": 2
}

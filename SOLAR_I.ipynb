{
 "cells": [
  {
   "cell_type": "markdown",
   "id": "5a68a0a5-ca84-43c7-bd32-7f11af26fb4d",
   "metadata": {},
   "source": [
    "# SOLAR I - Introduction"
   ]
  },
  {
   "cell_type": "markdown",
   "id": "16b02ea2-b02c-4293-8708-36f6c7b037de",
   "metadata": {},
   "source": [
    "Welcome to the ThaiPASS 2025 Solar and Stellar Physics Workshop! \n",
    "\n",
    "Today, we will cover four lessons delving into the world of Solar Physics and Stellar Physics. We will access and manipulate real solar data from the Solar Dynamics Observatory to study solar phenomena in multiple wavelengths. We will then explore how these phenomena can be studied on other stars using data from the Transiting Exoplanet Survey Satellite. The breakdown of the day is as follows:\n",
    "\n",
    "- **SOLAR I -** Introduction, getting to know the Sun, and computing some simple Python calculations\n",
    "- **SOLAR II -** Accessing and manipulating solar data using the SunPy package, creating maps of the solar surface\n",
    "- **SOLAR III -** Looking into solar flares both through time series data\n",
    "- **SOLAR IV -** Investigating what stellar flares look like on other stars"
   ]
  },
  {
   "cell_type": "markdown",
   "id": "4e2069b3-030f-49aa-8e6f-d25006fbd1ca",
   "metadata": {},
   "source": [
    "![title](aia_header.png)"
   ]
  },
  {
   "cell_type": "markdown",
   "id": "f9cc29ac-838a-4b10-882e-3748f6c2cb88",
   "metadata": {},
   "source": [
    "***"
   ]
  },
  {
   "cell_type": "markdown",
   "id": "fa85141c-e88b-4b48-bf8e-15ab7d5b9fe2",
   "metadata": {},
   "source": [
    "<div class=\"alert alert-block alert-info\">\n",
    "    \n",
    "**GOAL :** In this session we will look at some simple calculations to determine physical properties of the Sun and explore the concept of time in astronomy.\n",
    "\n",
    "**AIM :** To practice using Python in the notebook format, compute some simple calculations and become familiar with images of the Sun.\n",
    "\n",
    "**OUTPUT :** Properties of the Sun and timing conventions which will be used throughout the other sessions.\n",
    "</div>"
   ]
  },
  {
   "cell_type": "code",
   "execution_count": 8,
   "id": "e01e6a6d-4b05-4d84-83fe-916d1134cff4",
   "metadata": {},
   "outputs": [],
   "source": [
    "import math\n",
    "import numpy as np"
   ]
  },
  {
   "cell_type": "markdown",
   "id": "7d734281-7be1-44ac-8422-5b39d0d34eba",
   "metadata": {},
   "source": [
    "## Getting to Know the Sun"
   ]
  },
  {
   "cell_type": "markdown",
   "id": "9d4518fc-b791-4fad-bc7f-c121108d6da9",
   "metadata": {},
   "source": [
    "### Task I-1"
   ]
  },
  {
   "cell_type": "markdown",
   "id": "dd96b351-1fe2-4423-80ce-add1cd7aa6f6",
   "metadata": {},
   "source": [
    "It takes 8.3 minutes for light to travel from the Sun to us on Earth. Therefore, if the Sun was to 'turn off', we wouldn't know for over 8 minutes! \n",
    "\n",
    "- Using this information, calculate the distance in metres between the Earth and the Sun.\n",
    "- What is this value also known as? "
   ]
  },
  {
   "cell_type": "code",
   "execution_count": null,
   "id": "784913b2-e59e-411e-b5bc-8256e9d268d5",
   "metadata": {},
   "outputs": [],
   "source": []
  },
  {
   "cell_type": "markdown",
   "id": "f86a5040-b884-4c89-9ed5-741d174644a3",
   "metadata": {},
   "source": [
    "One of the most common units in astronomy is the arcminutes (') or arcseconds (\") which are a measure of the size of an object on the sky.\n",
    "\n",
    "- 1 arcminute = 60 arcseconds \n",
    "- 1 arcsecond = 1/3600 of a degree"
   ]
  },
  {
   "cell_type": "markdown",
   "id": "bbae44ab-3d6b-41b7-8b9b-3b9b383b0216",
   "metadata": {},
   "source": [
    "### Task I-2"
   ]
  },
  {
   "cell_type": "markdown",
   "id": "1f95dc15-4871-4942-94f4-cc7ccee78bbb",
   "metadata": {},
   "source": [
    "There are several methods for measuring the apparent solar diameter. One method consists of directly measuring the angle between two opposite limbs. Other methods consist of timing the duration between successive contacts of opposite limbs using a fictitious line in the sky. The value of 959.63 arcsec for the solar radius was obtained by Auwers (1891) using heliometer measurements and it is still the standard value in use today.\n",
    "\n",
    "- Using this value, what is the radius and diameter of the Sun in km?\n",
    "\n",
    "(**Tip:** you will need to use trigonometry)"
   ]
  },
  {
   "cell_type": "code",
   "execution_count": null,
   "id": "b0fd9006-1779-4a84-9440-da0d5d9d0b98",
   "metadata": {},
   "outputs": [],
   "source": []
  },
  {
   "cell_type": "markdown",
   "id": "bf6501f8-aa25-46bd-93a3-f797f525db49",
   "metadata": {},
   "source": [
    "### Task I-3"
   ]
  },
  {
   "cell_type": "markdown",
   "id": "a5b61cfc-4f1e-4fea-a286-7db07fb4b7b3",
   "metadata": {},
   "source": [
    "The radius of the Earth is 6,378 km. \n",
    "\n",
    "- Calculate the volume of both the Sun and the Earth\n",
    "- How many Earths can fit in the Sun?"
   ]
  },
  {
   "cell_type": "code",
   "execution_count": null,
   "id": "b7adc439-df5f-41b9-97df-79dbbb20d9b7",
   "metadata": {},
   "outputs": [],
   "source": []
  },
  {
   "cell_type": "markdown",
   "id": "ad91e1e7-2f8c-4daf-a02e-4d40a221a503",
   "metadata": {},
   "source": [
    "### Task I-4"
   ]
  },
  {
   "cell_type": "markdown",
   "id": "fcd912a7-3f3c-4c4b-adc0-484f0928551e",
   "metadata": {},
   "source": [
    "The radius of Jupiter is 69,911 km. \n",
    "\n",
    "- Calculate the volume of Jupiter\n",
    "- How many Jupiters can fit into the Sun?"
   ]
  },
  {
   "cell_type": "code",
   "execution_count": null,
   "id": "a5d6043c-6577-48d1-9c2a-c1eb8c5ea2f6",
   "metadata": {},
   "outputs": [],
   "source": []
  },
  {
   "cell_type": "markdown",
   "id": "e7f6fef8-5c4b-4807-82e1-97776c8963ad",
   "metadata": {},
   "source": [
    "These numbers are fun facts which are good to know, as they express the size of the Sun in terms of other planets within our Solar System!"
   ]
  },
  {
   "cell_type": "markdown",
   "id": "5acc5ecc-15d0-432c-bfce-2301eb1f4002",
   "metadata": {},
   "source": [
    "***"
   ]
  },
  {
   "cell_type": "markdown",
   "id": "c1ca601b-c51f-44ec-8298-962ef0028d0c",
   "metadata": {},
   "source": [
    "## Time"
   ]
  },
  {
   "cell_type": "markdown",
   "id": "de9f81f1-1b4f-4308-bfcb-c981b62cbf98",
   "metadata": {},
   "source": [
    "The majority of data in solar physics and astronomy is given in Coordinated Universal Time (UTC). It is widely used across the world as it establishes a reference for the current time, forming the basis for time zones. The reference line or starting point for UTC, the Prime Meridian, was determined to be the transit circle at the Royal Observatory in Greenwich, London.\n",
    "\n",
    "In the next session, you will be using UTC to search for solar data through the sunpy package. The format for this is:\n",
    "\n",
    "'yyyy/mm/dd hh:mm:ss'"
   ]
  },
  {
   "cell_type": "markdown",
   "id": "52f2a972-5197-4204-9f6f-3bc1ae7cca86",
   "metadata": {},
   "source": [
    "### Task I-5"
   ]
  },
  {
   "cell_type": "markdown",
   "id": "1373e1de-4a70-42cd-990b-7f75e5c96ccc",
   "metadata": {},
   "source": [
    "Time zones around the world are expressed using positive, zero, or negative offsets from UTC, as in the list of time zones by __[UTC Offset](https://en.wikipedia.org/wiki/List_of_UTC_offsets)__. \n",
    "\n",
    "- Find what the UTC offset is for Thailand using the above link\n",
    "- Express todays date and the current time in UTC adopting the format used by sunpy."
   ]
  },
  {
   "cell_type": "code",
   "execution_count": null,
   "id": "e0a5cf1a-e590-4fdf-80d5-ad76b28e2927",
   "metadata": {},
   "outputs": [],
   "source": []
  },
  {
   "cell_type": "markdown",
   "id": "8858f87c-a260-4f25-bed5-d4e995bed0d1",
   "metadata": {},
   "source": [
    "<div class=\"alert alert-block alert-warning\">\n",
    "<b>CHECKPOINT:</b> Find a demonstrator and show them your solutions before progressing to the next task.\n",
    "</div>"
   ]
  },
  {
   "cell_type": "markdown",
   "id": "076dcfb2-0553-4758-83e5-d69bc2dfcbeb",
   "metadata": {},
   "source": [
    "### Task I-6"
   ]
  },
  {
   "cell_type": "markdown",
   "id": "43220a6a-c4ee-410b-9e4a-e81dc891837b",
   "metadata": {},
   "source": [
    "__[Helioviewer](https://gs671-suske.ndc.nasa.gov/)__ is a student-friendly interactive webiste with accessible NASA data of the Sun and its features, including solar flares, magnetic fields, sunspots, and CMEs. Students can access spacecraft data, collected by NASA's Solar Dynamics Observatory, the joint ESA/NASA Solar and Heliospheric Observatory (SOHO) amongst others. They can search for phenomena, make movies, and much more.\n",
    "\n",
    "**Task a:** Use Helioviewer to explore what the Sun looks like today.\n",
    "\n",
    "**Task b:** Other famous events, if you have time, you might want to look at include:\n",
    "\n",
    "- The Most Intense Solar Storm in Decades, May 7th - 11th 2024\n",
    "- Filament Eruption, November 1st 2014\n",
    "- Large Sunspot Group, August 21st - 26th 2015"
   ]
  }
 ],
 "metadata": {
  "kernelspec": {
   "display_name": "Python 3 (ipykernel)",
   "language": "python",
   "name": "python3"
  },
  "language_info": {
   "codemirror_mode": {
    "name": "ipython",
    "version": 3
   },
   "file_extension": ".py",
   "mimetype": "text/x-python",
   "name": "python",
   "nbconvert_exporter": "python",
   "pygments_lexer": "ipython3",
   "version": "3.13.5"
  }
 },
 "nbformat": 4,
 "nbformat_minor": 5
}
